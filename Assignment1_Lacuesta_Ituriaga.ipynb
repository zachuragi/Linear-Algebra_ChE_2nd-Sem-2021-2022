{
  "nbformat": 4,
  "nbformat_minor": 0,
  "metadata": {
    "colab": {
      "name": "Assignment1_Lacuesta_Ituriaga",
      "provenance": [],
      "include_colab_link": true
    },
    "kernelspec": {
      "name": "python3",
      "display_name": "Python 3"
    },
    "language_info": {
      "name": "python"
    }
  },
  "cells": [
    {
      "cell_type": "markdown",
      "metadata": {
        "id": "view-in-github",
        "colab_type": "text"
      },
      "source": [
        "<a href=\"https://colab.research.google.com/github/zachuragi/Linear-Algebra_ChE_2nd-Sem-2021-2022/blob/main/Assignment1_Lacuesta_Ituriaga.ipynb\" target=\"_parent\"><img src=\"https://colab.research.google.com/assets/colab-badge.svg\" alt=\"Open In Colab\"/></a>"
      ]
    },
    {
      "cell_type": "code",
      "execution_count": null,
      "metadata": {
        "colab": {
          "base_uri": "https://localhost:8080/"
        },
        "id": "O6Ar_PE-3j_B",
        "outputId": "8f003626-d000-4505-e063-8cff3ef2d0fa"
      },
      "outputs": [
        {
          "output_type": "stream",
          "name": "stdout",
          "text": [
            "\n",
            "\tFull Name [Last, First M.I]:  LACUESTA, ZACHARY C.\n",
            "\tCourse:  BS CHEMICAL ENGINEERING\n",
            "\tPrelims Grade: 90\n",
            "\tMidterm Grade: 90\n",
            "\tFinal Grade: 90\n",
            "\n",
            "\t[RESULTS]\n",
            "\n",
            "\tStudent:  LACUESTA, ZACHARY C. of BS CHEMICAL ENGINEERING\n",
            "\n",
            "\tYour grade is 😀\n",
            "\n"
          ]
        }
      ],
      "source": [
        "print()\n",
        "name = input('\\tFull Name [Last, First M.I]:  ');\n",
        "course = input('\\tCourse:  ');\n",
        "prelim = float(input('\\tPrelims Grade: '));\n",
        "midterm = float(input('\\tMidterm Grade: '));\n",
        "final = float(input('\\tFinal Grade: '));\n",
        "grade= (prelim) + (midterm) + (final);\n",
        "avg= grade/3;\n",
        "\n",
        "print();\n",
        "print(\"\\t[RESULTS]\");\n",
        "print();\n",
        "print(\"\\tStudent: \", name,\"of\", course);\n",
        "print();\n",
        "if avg > 70:\n",
        "    print(\"\\tYour grade is \\U0001F600\");\n",
        "elif avg == 70:\n",
        "    print(\"\\tYour grade is \\U0001F606\");\n",
        "elif avg < 70:\n",
        "      print(\"\\tYour grade is \\U0001F62D\");\n",
        "print();"
      ]
    },
    {
      "cell_type": "code",
      "source": [
        "print()\n",
        "name = input('\\tFull Name [Last, First M.I]:  ');\n",
        "course = input('\\tCourse:  ');\n",
        "prelim = float(input('\\tPrelims Grade: '));\n",
        "midterm = float(input('\\tMidterm Grade: '));\n",
        "final = float(input('\\tFinal Grade: '));\n",
        "grade= (prelim) + (midterm) + (final);\n",
        "avg= grade/3;\n",
        "\n",
        "print();\n",
        "print(\"\\t[RESULTS]\");\n",
        "print();\n",
        "print(\"\\tStudent: \", name,\"of\", course);\n",
        "print();\n",
        "if avg > 70:\n",
        "    print(\"\\tYour grade is \\U0001F600\");\n",
        "elif avg == 70:\n",
        "    print(\"\\tYour grade is \\U0001F606\");\n",
        "elif avg < 70:\n",
        "      print(\"\\tYour grade is \\U0001F62D\");\n",
        "print();"
      ],
      "metadata": {
        "id": "q-uOr31e6kOZ",
        "colab": {
          "base_uri": "https://localhost:8080/"
        },
        "outputId": "e814c873-66bc-4e2b-cf7c-666cf1d909c7"
      },
      "execution_count": null,
      "outputs": [
        {
          "output_type": "stream",
          "name": "stdout",
          "text": [
            "\n",
            "\tFull Name [Last, First M.I]:  ITURIAGA, LOREVEL M.\n",
            "\tCourse:  BS CHEMICAL ENGINEERING\n",
            "\tPrelims Grade: 88\n",
            "\tMidterm Grade: 90\n",
            "\tFinal Grade: 90\n",
            "\n",
            "\t[RESULTS]\n",
            "\n",
            "\tStudent:  ITURIAGA, LOREVEL M. of BS CHEMICAL ENGINEERING\n",
            "\n",
            "\tYour grade is 😀\n",
            "\n"
          ]
        }
      ]
    }
  ]
}