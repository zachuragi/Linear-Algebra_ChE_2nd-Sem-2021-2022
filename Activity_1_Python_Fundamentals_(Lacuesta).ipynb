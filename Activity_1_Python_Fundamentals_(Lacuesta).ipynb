{
  "nbformat": 4,
  "nbformat_minor": 0,
  "metadata": {
    "colab": {
      "name": "Activity 1-Python Fundamentals (Lacuesta)",
      "provenance": [],
      "collapsed_sections": [
        "qLCsiikgAIN1",
        "o2p88UJSC152",
        "oGTe3-AlMGAZ",
        "_7nzOsK2M7xn"
      ],
      "include_colab_link": true
    },
    "kernelspec": {
      "name": "python3",
      "display_name": "Python 3"
    },
    "language_info": {
      "name": "python"
    }
  },
  "cells": [
    {
      "cell_type": "markdown",
      "metadata": {
        "id": "view-in-github",
        "colab_type": "text"
      },
      "source": [
        "<a href=\"https://colab.research.google.com/github/zachuragi/Linear-Algebra_ChE_2nd-Sem-2021-2022/blob/main/Activity_1_Python_Fundamentals_(Lacuesta).ipynb\" target=\"_parent\"><img src=\"https://colab.research.google.com/assets/colab-badge.svg\" alt=\"Open In Colab\"/></a>"
      ]
    },
    {
      "cell_type": "markdown",
      "source": [
        "# Welcome to Python Fundamentals\n",
        "In this module, we are going to establish or review our skills in Python programming. In this notebook we are going to cover:\n",
        "* Variables and Data Types \n",
        "* Operations\n",
        "* Input and Output Operations\n",
        "* Logic Control\n",
        "* Iterables\n",
        "* Functions"
      ],
      "metadata": {
        "id": "cDyM0J5n_uhE"
      }
    },
    {
      "cell_type": "markdown",
      "source": [
        "## Variable and Data Types"
      ],
      "metadata": {
        "id": "qLCsiikgAIN1"
      }
    },
    {
      "cell_type": "code",
      "source": [
        "x = 420\n",
        "a,b = 1337, 69"
      ],
      "metadata": {
        "id": "CqTj_eOaAO9j"
      },
      "execution_count": 1,
      "outputs": []
    },
    {
      "cell_type": "code",
      "source": [
        "type(x)"
      ],
      "metadata": {
        "id": "iG6yTKP7A-qK",
        "colab": {
          "base_uri": "https://localhost:8080/"
        },
        "outputId": "e098bf15-ce23-4a3c-b04f-74086546ea60"
      },
      "execution_count": 2,
      "outputs": [
        {
          "output_type": "execute_result",
          "data": {
            "text/plain": [
              "int"
            ]
          },
          "metadata": {},
          "execution_count": 2
        }
      ]
    },
    {
      "cell_type": "code",
      "source": [
        "y = 1.0\n",
        "type(y)"
      ],
      "metadata": {
        "id": "5qtXYapxBz1C",
        "colab": {
          "base_uri": "https://localhost:8080/"
        },
        "outputId": "0d34fdfd-9b42-4b98-ca01-f50463a316fc"
      },
      "execution_count": 3,
      "outputs": [
        {
          "output_type": "execute_result",
          "data": {
            "text/plain": [
              "float"
            ]
          },
          "metadata": {},
          "execution_count": 3
        }
      ]
    },
    {
      "cell_type": "code",
      "source": [
        "x = float(x)\n",
        "type(x)"
      ],
      "metadata": {
        "id": "-rOB_eSPCmOx",
        "colab": {
          "base_uri": "https://localhost:8080/"
        },
        "outputId": "81e683c4-a82d-431a-deca-2bd5537f18f2"
      },
      "execution_count": 4,
      "outputs": [
        {
          "output_type": "execute_result",
          "data": {
            "text/plain": [
              "float"
            ]
          },
          "metadata": {},
          "execution_count": 4
        }
      ]
    },
    {
      "cell_type": "code",
      "source": [
        "s,t,u = \"0\", '1', 'one'\n",
        "type(u)"
      ],
      "metadata": {
        "id": "ZmCT6-ATCrku",
        "colab": {
          "base_uri": "https://localhost:8080/"
        },
        "outputId": "2bdfedf0-0395-4de5-946b-b51bb57e9472"
      },
      "execution_count": 5,
      "outputs": [
        {
          "output_type": "execute_result",
          "data": {
            "text/plain": [
              "str"
            ]
          },
          "metadata": {},
          "execution_count": 5
        }
      ]
    },
    {
      "cell_type": "code",
      "source": [
        "s_int = int(s)\n",
        "s_int\n",
        "type(s)"
      ],
      "metadata": {
        "id": "fjSPrqsFIpG2",
        "colab": {
          "base_uri": "https://localhost:8080/"
        },
        "outputId": "54eb2da9-7ae5-4e64-89aa-efd9c2dd6f5c"
      },
      "execution_count": 6,
      "outputs": [
        {
          "output_type": "execute_result",
          "data": {
            "text/plain": [
              "str"
            ]
          },
          "metadata": {},
          "execution_count": 6
        }
      ]
    },
    {
      "cell_type": "markdown",
      "source": [
        "##Operations"
      ],
      "metadata": {
        "id": "o2p88UJSC152"
      }
    },
    {
      "cell_type": "markdown",
      "source": [
        "###Arithmetic"
      ],
      "metadata": {
        "id": "gMGJAiL-C-Na"
      }
    },
    {
      "cell_type": "code",
      "source": [
        "l,m,n,o = 2.0,3,0,-64"
      ],
      "metadata": {
        "id": "OjjfuyP7EKxA"
      },
      "execution_count": 7,
      "outputs": []
    },
    {
      "cell_type": "code",
      "source": [
        "# Addition\n",
        "S = l+m\n",
        "S"
      ],
      "metadata": {
        "id": "h5WaaTKQEiyE",
        "colab": {
          "base_uri": "https://localhost:8080/"
        },
        "outputId": "7e1c379d-84d9-44f5-fceb-8e18ae7e2da2"
      },
      "execution_count": 8,
      "outputs": [
        {
          "output_type": "execute_result",
          "data": {
            "text/plain": [
              "5.0"
            ]
          },
          "metadata": {},
          "execution_count": 8
        }
      ]
    },
    {
      "cell_type": "code",
      "source": [
        "# Subtraction\n",
        "D = m-o\n",
        "D"
      ],
      "metadata": {
        "id": "6VDFggGjEt1Q",
        "colab": {
          "base_uri": "https://localhost:8080/"
        },
        "outputId": "c36f6d52-d47d-4006-b96c-2427b0252cb9"
      },
      "execution_count": 9,
      "outputs": [
        {
          "output_type": "execute_result",
          "data": {
            "text/plain": [
              "67"
            ]
          },
          "metadata": {},
          "execution_count": 9
        }
      ]
    },
    {
      "cell_type": "code",
      "source": [
        "# Multiplication\n",
        "\n",
        "P = l*o\n",
        "P"
      ],
      "metadata": {
        "id": "W-pEg2zwE0sH",
        "colab": {
          "base_uri": "https://localhost:8080/"
        },
        "outputId": "bfb91f70-4bbd-4af8-ca97-61bc6b2d44d9"
      },
      "execution_count": 10,
      "outputs": [
        {
          "output_type": "execute_result",
          "data": {
            "text/plain": [
              "-128.0"
            ]
          },
          "metadata": {},
          "execution_count": 10
        }
      ]
    },
    {
      "cell_type": "code",
      "source": [
        "# Division\n",
        "Q = n/l\n",
        "Q"
      ],
      "metadata": {
        "id": "wSLPd7MwE8HZ",
        "colab": {
          "base_uri": "https://localhost:8080/"
        },
        "outputId": "b05cdcec-8662-4f5c-d185-da72a3ac755f"
      },
      "execution_count": 11,
      "outputs": [
        {
          "output_type": "execute_result",
          "data": {
            "text/plain": [
              "0.0"
            ]
          },
          "metadata": {},
          "execution_count": 11
        }
      ]
    },
    {
      "cell_type": "code",
      "source": [
        "# Floor Division\n",
        "Fq = l//m\n",
        "Fq"
      ],
      "metadata": {
        "id": "VEkCvAQ4FhNk",
        "colab": {
          "base_uri": "https://localhost:8080/"
        },
        "outputId": "072d2152-cf93-47fa-db92-51473b23d384"
      },
      "execution_count": 12,
      "outputs": [
        {
          "output_type": "execute_result",
          "data": {
            "text/plain": [
              "0.0"
            ]
          },
          "metadata": {},
          "execution_count": 12
        }
      ]
    },
    {
      "cell_type": "code",
      "source": [
        "# Exponentiation\n",
        "\n",
        "E = l**m\n",
        "E"
      ],
      "metadata": {
        "id": "TzqkaOilFwfu",
        "colab": {
          "base_uri": "https://localhost:8080/"
        },
        "outputId": "582fafb2-869a-43a5-b301-bb0ff71edbdc"
      },
      "execution_count": 13,
      "outputs": [
        {
          "output_type": "execute_result",
          "data": {
            "text/plain": [
              "8.0"
            ]
          },
          "metadata": {},
          "execution_count": 13
        }
      ]
    },
    {
      "cell_type": "code",
      "source": [
        "# Modulo\n",
        "mod = o%m\n",
        "mod"
      ],
      "metadata": {
        "id": "mmGHlxKIJqVn",
        "colab": {
          "base_uri": "https://localhost:8080/"
        },
        "outputId": "ed10f2c7-7b97-4e38-e764-7e89b3367830"
      },
      "execution_count": 14,
      "outputs": [
        {
          "output_type": "execute_result",
          "data": {
            "text/plain": [
              "2"
            ]
          },
          "metadata": {},
          "execution_count": 14
        }
      ]
    },
    {
      "cell_type": "markdown",
      "source": [
        "###Assignment Operations"
      ],
      "metadata": {
        "id": "o1GaZXeFJw2x"
      }
    },
    {
      "cell_type": "code",
      "source": [
        "G,H,J,K = 0, 100, 2, 2"
      ],
      "metadata": {
        "id": "JB5URcqxJ8eP"
      },
      "execution_count": 15,
      "outputs": []
    },
    {
      "cell_type": "code",
      "source": [
        "G += l\n",
        "G"
      ],
      "metadata": {
        "id": "vmR5YxkxKazX",
        "colab": {
          "base_uri": "https://localhost:8080/"
        },
        "outputId": "e5d67918-388e-4962-81ba-977b8b053e84"
      },
      "execution_count": 16,
      "outputs": [
        {
          "output_type": "execute_result",
          "data": {
            "text/plain": [
              "2.0"
            ]
          },
          "metadata": {},
          "execution_count": 16
        }
      ]
    },
    {
      "cell_type": "code",
      "source": [
        "H -= o\n",
        "H"
      ],
      "metadata": {
        "id": "nYq2xQs6KtIa",
        "colab": {
          "base_uri": "https://localhost:8080/"
        },
        "outputId": "89df98f8-932d-4c73-9c30-4111afde1d93"
      },
      "execution_count": 17,
      "outputs": [
        {
          "output_type": "execute_result",
          "data": {
            "text/plain": [
              "164"
            ]
          },
          "metadata": {},
          "execution_count": 17
        }
      ]
    },
    {
      "cell_type": "code",
      "source": [
        "J *= 2\n",
        "J"
      ],
      "metadata": {
        "id": "iQC7fGyvKv82",
        "colab": {
          "base_uri": "https://localhost:8080/"
        },
        "outputId": "d6bfddcd-a66a-4a75-c924-cb234befea75"
      },
      "execution_count": 18,
      "outputs": [
        {
          "output_type": "execute_result",
          "data": {
            "text/plain": [
              "4"
            ]
          },
          "metadata": {},
          "execution_count": 18
        }
      ]
    },
    {
      "cell_type": "code",
      "source": [
        "K **= 3\n",
        "K"
      ],
      "metadata": {
        "id": "NX8sZOxaKzTq",
        "colab": {
          "base_uri": "https://localhost:8080/"
        },
        "outputId": "20a63bf1-8c55-47ae-b51e-9a89ae5a6b8d"
      },
      "execution_count": 19,
      "outputs": [
        {
          "output_type": "execute_result",
          "data": {
            "text/plain": [
              "8"
            ]
          },
          "metadata": {},
          "execution_count": 19
        }
      ]
    },
    {
      "cell_type": "markdown",
      "source": [
        "###Comparators"
      ],
      "metadata": {
        "id": "jtx5H4YhLSdv"
      }
    },
    {
      "cell_type": "code",
      "source": [
        "res_1, res_2, res_3 = 1,2.0,\"1\"\n",
        "true_val =1.0"
      ],
      "metadata": {
        "id": "Z8yE7vxSLX9K"
      },
      "execution_count": 20,
      "outputs": []
    },
    {
      "cell_type": "code",
      "source": [
        "## Equality\n",
        "res_1 == true_val"
      ],
      "metadata": {
        "id": "lvZZOpX7LgjE",
        "colab": {
          "base_uri": "https://localhost:8080/"
        },
        "outputId": "68beaecb-85f8-41d7-a751-baa5fd648d18"
      },
      "execution_count": 21,
      "outputs": [
        {
          "output_type": "execute_result",
          "data": {
            "text/plain": [
              "True"
            ]
          },
          "metadata": {},
          "execution_count": 21
        }
      ]
    },
    {
      "cell_type": "code",
      "source": [
        "## Non-equality\n",
        "res_2 != true_val"
      ],
      "metadata": {
        "id": "69KuZHc9LiXz",
        "colab": {
          "base_uri": "https://localhost:8080/"
        },
        "outputId": "440851c2-9aae-4b05-8332-8365be5ef8a2"
      },
      "execution_count": 22,
      "outputs": [
        {
          "output_type": "execute_result",
          "data": {
            "text/plain": [
              "True"
            ]
          },
          "metadata": {},
          "execution_count": 22
        }
      ]
    },
    {
      "cell_type": "code",
      "source": [
        "## Inequality\n",
        "t1 = res_1 > res_2\n",
        "t2 = res_1 < res_2/2\n",
        "t3 = res_1 >= res_2/2\n",
        "t4 = res_1 <= res_2\n",
        "t1"
      ],
      "metadata": {
        "id": "VkOgZ2ghLpBb",
        "colab": {
          "base_uri": "https://localhost:8080/"
        },
        "outputId": "3e850ee1-7d3e-4baa-d03b-c44e9d373d82"
      },
      "execution_count": 23,
      "outputs": [
        {
          "output_type": "execute_result",
          "data": {
            "text/plain": [
              "False"
            ]
          },
          "metadata": {},
          "execution_count": 23
        }
      ]
    },
    {
      "cell_type": "markdown",
      "source": [
        "###Logical"
      ],
      "metadata": {
        "id": "Mog2eop4Lwec"
      }
    },
    {
      "cell_type": "code",
      "source": [
        "res_1 == true_val"
      ],
      "metadata": {
        "id": "miRRgeX-Lx6H",
        "colab": {
          "base_uri": "https://localhost:8080/"
        },
        "outputId": "1cf3acbd-7a00-43b1-f10a-ba2d8b418271"
      },
      "execution_count": 24,
      "outputs": [
        {
          "output_type": "execute_result",
          "data": {
            "text/plain": [
              "True"
            ]
          },
          "metadata": {},
          "execution_count": 24
        }
      ]
    },
    {
      "cell_type": "code",
      "source": [
        "res_1 is true_val"
      ],
      "metadata": {
        "id": "h6Y5eY1cL13i",
        "colab": {
          "base_uri": "https://localhost:8080/"
        },
        "outputId": "a4640feb-1940-454a-999a-ae5c4a5603dd"
      },
      "execution_count": 25,
      "outputs": [
        {
          "output_type": "execute_result",
          "data": {
            "text/plain": [
              "False"
            ]
          },
          "metadata": {},
          "execution_count": 25
        }
      ]
    },
    {
      "cell_type": "code",
      "source": [
        "res_1 is not true_val"
      ],
      "metadata": {
        "id": "A0RvUwSpL2Fm",
        "colab": {
          "base_uri": "https://localhost:8080/"
        },
        "outputId": "c9fda259-8007-4cb2-a41f-511d2a7e4941"
      },
      "execution_count": 26,
      "outputs": [
        {
          "output_type": "execute_result",
          "data": {
            "text/plain": [
              "True"
            ]
          },
          "metadata": {},
          "execution_count": 26
        }
      ]
    },
    {
      "cell_type": "code",
      "source": [
        "p,q = True, False\n",
        "conj = p and q\n",
        "conj"
      ],
      "metadata": {
        "id": "Kuotv6fTL2QF",
        "colab": {
          "base_uri": "https://localhost:8080/"
        },
        "outputId": "01d3073c-4613-48da-929e-9c32f59e4d0a"
      },
      "execution_count": 27,
      "outputs": [
        {
          "output_type": "execute_result",
          "data": {
            "text/plain": [
              "False"
            ]
          },
          "metadata": {},
          "execution_count": 27
        }
      ]
    },
    {
      "cell_type": "code",
      "source": [
        "p, q = True, False\n",
        "disj = p or q\n",
        "disj"
      ],
      "metadata": {
        "id": "ouMYr1xwL2Yq",
        "colab": {
          "base_uri": "https://localhost:8080/"
        },
        "outputId": "5adadaaf-4fcf-4a4e-9b7a-6690be44e6b5"
      },
      "execution_count": 28,
      "outputs": [
        {
          "output_type": "execute_result",
          "data": {
            "text/plain": [
              "True"
            ]
          },
          "metadata": {},
          "execution_count": 28
        }
      ]
    },
    {
      "cell_type": "code",
      "source": [
        "p, q = True, False\n",
        "nand = not(p and q)\n",
        "nand"
      ],
      "metadata": {
        "id": "V97QBGmiL2gq",
        "colab": {
          "base_uri": "https://localhost:8080/"
        },
        "outputId": "fc7c3532-ba7e-49b4-9f03-143be9622544"
      },
      "execution_count": 29,
      "outputs": [
        {
          "output_type": "execute_result",
          "data": {
            "text/plain": [
              "True"
            ]
          },
          "metadata": {},
          "execution_count": 29
        }
      ]
    },
    {
      "cell_type": "code",
      "source": [
        "p, q = True, False\n",
        "xor = (not p and q) or (p and not q)\n",
        "xor"
      ],
      "metadata": {
        "id": "f2uFgI7lL3Qz",
        "colab": {
          "base_uri": "https://localhost:8080/"
        },
        "outputId": "fd45c16e-caa7-4c86-9f93-2c7c22dd19cd"
      },
      "execution_count": 30,
      "outputs": [
        {
          "output_type": "execute_result",
          "data": {
            "text/plain": [
              "True"
            ]
          },
          "metadata": {},
          "execution_count": 30
        }
      ]
    },
    {
      "cell_type": "markdown",
      "source": [
        "##Input and Output"
      ],
      "metadata": {
        "id": "oGTe3-AlMGAZ"
      }
    },
    {
      "cell_type": "code",
      "source": [
        "print(\"Hello World\")"
      ],
      "metadata": {
        "id": "h-dm53mWMJ8k",
        "colab": {
          "base_uri": "https://localhost:8080/"
        },
        "outputId": "9ff41251-b189-4766-c7bb-04621bd8818e"
      },
      "execution_count": 31,
      "outputs": [
        {
          "output_type": "stream",
          "name": "stdout",
          "text": [
            "Hello World\n"
          ]
        }
      ]
    },
    {
      "cell_type": "code",
      "source": [
        "cnt = 1"
      ],
      "metadata": {
        "id": "M6tG77rrMQlq"
      },
      "execution_count": 32,
      "outputs": []
    },
    {
      "cell_type": "code",
      "source": [
        "string = \"Hello World\"\n",
        "print (string, \", Current run count is:\", cnt)\n",
        "cnt += 1"
      ],
      "metadata": {
        "id": "QC9cvL6oMQwJ",
        "colab": {
          "base_uri": "https://localhost:8080/"
        },
        "outputId": "647bc85a-a71c-4970-9372-668d613f4430"
      },
      "execution_count": 33,
      "outputs": [
        {
          "output_type": "stream",
          "name": "stdout",
          "text": [
            "Hello World , Current run count is: 1\n"
          ]
        }
      ]
    },
    {
      "cell_type": "code",
      "source": [
        "print(f\"{string}, Current count is: {cnt}\")"
      ],
      "metadata": {
        "id": "oks8JVoBMQ7I",
        "colab": {
          "base_uri": "https://localhost:8080/"
        },
        "outputId": "ca4cbc87-8e01-4c19-fdd2-e9fc43c1259a"
      },
      "execution_count": 34,
      "outputs": [
        {
          "output_type": "stream",
          "name": "stdout",
          "text": [
            "Hello World, Current count is: 2\n"
          ]
        }
      ]
    },
    {
      "cell_type": "code",
      "source": [
        "sem_grade = 82.243564657746123\n",
        "name = \"Zach\"\n",
        "print(\"Greetings! {}, your semestral grade is: {}\".format(name, sem_grade))"
      ],
      "metadata": {
        "id": "YnoNKKTxMRC5",
        "colab": {
          "base_uri": "https://localhost:8080/"
        },
        "outputId": "8e1f2c29-17a1-4dcd-a0d0-ec0791dc7fe0"
      },
      "execution_count": 35,
      "outputs": [
        {
          "output_type": "stream",
          "name": "stdout",
          "text": [
            "Greetings! Zach, your semestral grade is: 82.24356465774612\n"
          ]
        }
      ]
    },
    {
      "cell_type": "code",
      "source": [
        "w_pg, w_mg, w_fg = 0.3, 0.3, 0.4\n",
        "print(\"The weights of your semestral grades are:\\\n",
        "\\n\\t{:.2%} for Prelims\\\n",
        "\\n\\t{:.2%} for Midterms, and\\\n",
        "\\n\\t{:.2%} for Finals.\".format(w_pg, w_mg, w_fg))"
      ],
      "metadata": {
        "id": "LxLHoCzGMRL9",
        "colab": {
          "base_uri": "https://localhost:8080/"
        },
        "outputId": "4c3049ca-2efa-46ad-c54d-f7d35abaafc7"
      },
      "execution_count": 36,
      "outputs": [
        {
          "output_type": "stream",
          "name": "stdout",
          "text": [
            "The weights of your semestral grades are:\n",
            "\t30.00% for Prelims\n",
            "\t30.00% for Midterms, and\n",
            "\t40.00% for Finals.\n"
          ]
        }
      ]
    },
    {
      "cell_type": "code",
      "source": [
        "x = input(\"enter a number: \")\n",
        "x"
      ],
      "metadata": {
        "id": "K6z_Dg8qMRTs",
        "colab": {
          "base_uri": "https://localhost:8080/",
          "height": 53
        },
        "outputId": "3f6ddf3f-36a6-48a1-e476-5e8f42315e24"
      },
      "execution_count": 38,
      "outputs": [
        {
          "name": "stdout",
          "output_type": "stream",
          "text": [
            "enter a number: 2\n"
          ]
        },
        {
          "output_type": "execute_result",
          "data": {
            "application/vnd.google.colaboratory.intrinsic+json": {
              "type": "string"
            },
            "text/plain": [
              "'2'"
            ]
          },
          "metadata": {},
          "execution_count": 38
        }
      ]
    },
    {
      "cell_type": "code",
      "source": [
        "name = input(\"Kimi no nawa: \")\n",
        "pg = input(\"Enter Prelim Grade: \")\n",
        "mg = input(\"Enter Midterm Grade: \")\n",
        "fg = input(\"Enter Finals Grade: \")\n",
        "sem_grade = 90\n",
        "\n",
        "\n",
        "print(\"Hello {}, your semestral grade is: {}\".format(name, sem_grade))"
      ],
      "metadata": {
        "id": "Ske3mboXMRbP",
        "colab": {
          "base_uri": "https://localhost:8080/"
        },
        "outputId": "6c2c4ca9-475a-4bce-cef4-2c885945883c"
      },
      "execution_count": 39,
      "outputs": [
        {
          "output_type": "stream",
          "name": "stdout",
          "text": [
            "Kimi no nawa: Zach\n",
            "Enter Prelim Grade: 90\n",
            "Enter Midterm Grade: 90\n",
            "Enter Finals Grade: 90\n",
            "Hello Zach, your semestral grade is: 90\n"
          ]
        }
      ]
    },
    {
      "cell_type": "markdown",
      "source": [
        "##Looping Statements"
      ],
      "metadata": {
        "id": "_7nzOsK2M7xn"
      }
    },
    {
      "cell_type": "markdown",
      "source": [
        "###While"
      ],
      "metadata": {
        "id": "yvxPRu58NKW8"
      }
    },
    {
      "cell_type": "code",
      "source": [
        "## while loops\n",
        "i, j = 0, 10\n",
        "while(i<=j):\n",
        "  print(f\"{i}\\t|\\t{j}\")\n",
        "  i+=1"
      ],
      "metadata": {
        "id": "8R5uMAAYNMoq",
        "colab": {
          "base_uri": "https://localhost:8080/"
        },
        "outputId": "2b96d97e-6f14-42b2-d301-a20c31d2b780"
      },
      "execution_count": 40,
      "outputs": [
        {
          "output_type": "stream",
          "name": "stdout",
          "text": [
            "0\t|\t10\n",
            "1\t|\t10\n",
            "2\t|\t10\n",
            "3\t|\t10\n",
            "4\t|\t10\n",
            "5\t|\t10\n",
            "6\t|\t10\n",
            "7\t|\t10\n",
            "8\t|\t10\n",
            "9\t|\t10\n",
            "10\t|\t10\n"
          ]
        }
      ]
    },
    {
      "cell_type": "markdown",
      "source": [
        "###For"
      ],
      "metadata": {
        "id": "P0Rqd6ESNSfH"
      }
    },
    {
      "cell_type": "code",
      "source": [
        "# for(int i=0, i<10; i++){\n",
        "# printf(i)\n",
        "# }\n",
        "\n",
        "i=0\n",
        "for i in range(11):\n",
        "  print(i)"
      ],
      "metadata": {
        "id": "XQzUXtgFNXb2",
        "colab": {
          "base_uri": "https://localhost:8080/"
        },
        "outputId": "e0cf91d9-f8f8-4478-c292-c74f567cbb85"
      },
      "execution_count": 41,
      "outputs": [
        {
          "output_type": "stream",
          "name": "stdout",
          "text": [
            "0\n",
            "1\n",
            "2\n",
            "3\n",
            "4\n",
            "5\n",
            "6\n",
            "7\n",
            "8\n",
            "9\n",
            "10\n"
          ]
        }
      ]
    },
    {
      "cell_type": "code",
      "source": [
        "playlist = [\"How You Like That\", \"Pretty Savage\", \"Lovesick Girls\"]\n",
        "print('Now Playing:\\n')\n",
        "for song in playlist:\n",
        "  print(song)"
      ],
      "metadata": {
        "id": "I_GZCq3INXjL",
        "colab": {
          "base_uri": "https://localhost:8080/"
        },
        "outputId": "54a75642-2716-48bb-9554-b4ec58518769"
      },
      "execution_count": 42,
      "outputs": [
        {
          "output_type": "stream",
          "name": "stdout",
          "text": [
            "Now Playing:\n",
            "\n",
            "How You Like That\n",
            "Pretty Savage\n",
            "Lovesick Girls\n"
          ]
        }
      ]
    },
    {
      "cell_type": "markdown",
      "source": [
        "###Flow Control"
      ],
      "metadata": {
        "id": "wXcIX-fPNtaV"
      }
    },
    {
      "cell_type": "markdown",
      "source": [
        "###Condition Statements"
      ],
      "metadata": {
        "id": "zHeDpW4BNwej"
      }
    },
    {
      "cell_type": "code",
      "source": [
        "numeral1, numeral2 = 15, 12\n",
        "if(numeral1 == numeral2):\n",
        "  print(\"Mabuhay\")\n",
        "elif(numeral1>numeral2):\n",
        "  print(\"Paalam\")\n",
        "else:\n",
        "  print(\"Yey\")\n",
        "print(\"Sad\")"
      ],
      "metadata": {
        "id": "WHN-C3CMOAxn",
        "colab": {
          "base_uri": "https://localhost:8080/"
        },
        "outputId": "d18d0797-afa9-482d-b3d2-2f2bc466e2cd"
      },
      "execution_count": 43,
      "outputs": [
        {
          "output_type": "stream",
          "name": "stdout",
          "text": [
            "Paalam\n",
            "Sad\n"
          ]
        }
      ]
    },
    {
      "cell_type": "markdown",
      "source": [
        "###Functions"
      ],
      "metadata": {
        "id": "leHszFcwOVR_"
      }
    },
    {
      "cell_type": "code",
      "source": [
        "# void DeleteUser(int userid){\n",
        "#   delete(userid);\n",
        "# }\n",
        "\n",
        "def delete_user (userid):\n",
        "  print(\"Successfully deleted user: {}\".format(userid))\n",
        "\n",
        "def delete_all_users ():\n",
        "  print(\"Successfully deleted all users\")"
      ],
      "metadata": {
        "id": "Fx9OCIIvOaan"
      },
      "execution_count": 44,
      "outputs": []
    },
    {
      "cell_type": "code",
      "source": [
        "userid = 202011309\n",
        "delete_user(202011309)\n",
        "delete_all_users()"
      ],
      "metadata": {
        "id": "EVDEwYiVOaf9",
        "colab": {
          "base_uri": "https://localhost:8080/"
        },
        "outputId": "a15b641c-21ef-4b2e-9c8e-cb628760fda5"
      },
      "execution_count": 45,
      "outputs": [
        {
          "output_type": "stream",
          "name": "stdout",
          "text": [
            "Successfully deleted user: 202011309\n",
            "Successfully deleted all users\n"
          ]
        }
      ]
    },
    {
      "cell_type": "code",
      "source": [
        "def add(addend1, addend2):\n",
        "  print(\"Magaling ako mag add\")\n",
        "  return addend1 + addend2\n",
        "\n",
        "def power_of_base2(exponent):\n",
        "  return 2**exponent\n",
        "\n",
        "addend1 = 420\n",
        "addend2 = 69\n",
        "\n",
        "exponent = 10\n",
        "\n",
        "add(addend1, addend2)\n",
        "power_of_base2(exponent)"
      ],
      "metadata": {
        "id": "n0aSHYiBOalJ",
        "colab": {
          "base_uri": "https://localhost:8080/"
        },
        "outputId": "59846b96-50da-49ae-b903-2a045f0622bf"
      },
      "execution_count": 46,
      "outputs": [
        {
          "output_type": "stream",
          "name": "stdout",
          "text": [
            "Magaling ako mag add\n"
          ]
        },
        {
          "output_type": "execute_result",
          "data": {
            "text/plain": [
              "1024"
            ]
          },
          "metadata": {},
          "execution_count": 46
        }
      ]
    },
    {
      "cell_type": "markdown",
      "source": [
        "###Lambda Functions"
      ],
      "metadata": {
        "id": "HIum68i3OmBU"
      }
    },
    {
      "cell_type": "code",
      "source": [
        "...\n",
        "Create a grade calculator that computes for the semestral grade of a course.\n",
        "Students could type their names, the name of the course, then their prelim, midterm, and final grade.\n",
        "The program should print the semestral grade in 2 decimal points and should displayt the folowign emojis depending on the situation:\n",
        "happy - when grade is greater than 70.00\n",
        "laughing - when grade is exactly 70.00\n",
        "sad - when grade is below 70.00\n",
        "...\n",
        "\n",
        "happy, sad, lol = \"\\U0001F600\", \"\\U0001F606\", \"\\U0001F62D\""
      ],
      "metadata": {
        "id": "5dRfCVtkOvOX"
      },
      "execution_count": null,
      "outputs": []
    }
  ]
}