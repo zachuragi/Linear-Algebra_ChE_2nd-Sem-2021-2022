{
  "nbformat": 4,
  "nbformat_minor": 0,
  "metadata": {
    "colab": {
      "name": "Assignment 9_Lacuesta_Ituriaga",
      "provenance": [],
      "authorship_tag": "ABX9TyP7QAOLypKnTF8db68z6UkD",
      "include_colab_link": true
    },
    "kernelspec": {
      "name": "python3",
      "display_name": "Python 3"
    },
    "language_info": {
      "name": "python"
    }
  },
  "cells": [
    {
      "cell_type": "markdown",
      "metadata": {
        "id": "view-in-github",
        "colab_type": "text"
      },
      "source": [
        "<a href=\"https://colab.research.google.com/github/zachuragi/Linear-Algebra_ChE_2nd-Sem-2021-2022/blob/main/Assignment_9_Lacuesta_Ituriaga.ipynb\" target=\"_parent\"><img src=\"https://colab.research.google.com/assets/colab-badge.svg\" alt=\"Open In Colab\"/></a>"
      ]
    },
    {
      "cell_type": "markdown",
      "source": [
        "# Lab 9 - Plotting Vector using NumPy and MatPlotLib"
      ],
      "metadata": {
        "id": "UcAlQK85VqZy"
      }
    },
    {
      "cell_type": "markdown",
      "source": [
        "In this laboratory we will be discussing the basics of numerical and scientific programming by working with Vectors using NumPy and MatPlotLib."
      ],
      "metadata": {
        "id": "bX4BH5XnVuSk"
      }
    },
    {
      "cell_type": "markdown",
      "source": [
        "### Objectives\n",
        "At the end of this activity you will be able to:\n",
        "1. Be familiar with the libraries in Python for numerical and scientific programming.\n",
        "2. Visualize vectors through Python programming.\n",
        "3. Perform simple vector operations through code."
      ],
      "metadata": {
        "id": "tGwrZJYqVvQK"
      }
    },
    {
      "cell_type": "markdown",
      "source": [
        "##Discussion"
      ],
      "metadata": {
        "id": "9usjIWgJVw7w"
      }
    },
    {
      "cell_type": "markdown",
      "source": [
        "###NumPy\n",
        "\n",
        "NumPy or Numerical Python, is mainly used for matrix and vector operations. It is capable of declaring computing and representing matrices. Most Python scientific programming libraries uses NumPy as the basic code.\n",
        "\n",
        "Scalars\n",
        "Represent magnitude or a single value\n",
        "\n",
        "Vectors\n",
        "Represent magnitude with directors\n",
        "\n"
      ],
      "metadata": {
        "id": "TYl28NjaX98F"
      }
    },
    {
      "cell_type": "markdown",
      "source": [
        "####Representing Vectors\n",
        "\n",
        "Now that you know how to represent vectors using their component and matrix form we can now hard-code them in Python. Let's say that you have the vectors:"
      ],
      "metadata": {
        "id": "5i3QRlViYEET"
      }
    },
    {
      "cell_type": "markdown",
      "source": [
        "$$ A = 3\\hat{x} + 2\\hat{y} \\\\\n",
        "B = 1\\hat{x} - 4\\hat{y}\\\\\n",
        "C = 3ax + 2ay - 1az \\\\\n",
        "D = 1\\hat{i} - 1\\hat{j} + 2\\hat{k}$$"
      ],
      "metadata": {
        "id": "VughkhjyYIDn"
      }
    },
    {
      "cell_type": "markdown",
      "source": [
        "In which it's matrix equivalent is:"
      ],
      "metadata": {
        "id": "v4_fOhuyYL4B"
      }
    },
    {
      "cell_type": "markdown",
      "source": [
        "$$ A = \\begin{bmatrix} 4 \\\\ 3\\end{bmatrix} , B = \\begin{bmatrix} 2 \\\\ -5\\end{bmatrix} , C = \\begin{bmatrix} 4 \\\\ 3 \\\\  -2 \\end{bmatrix}, D = \\begin{bmatrix} 2 \\\\ -2 \\\\ 3\\end{bmatrix}\n",
        "$$\n",
        "$$ A = \\begin{bmatrix} 4 & 3\\end{bmatrix} , B = \\begin{bmatrix} 2 & -5\\end{bmatrix} , C = \\begin{bmatrix} 4 & 3 & -2\\end{bmatrix} , D = \\begin{bmatrix} 2 & -2 & 3\\end{bmatrix} \n",
        "$$"
      ],
      "metadata": {
        "id": "XWVPXAeEYOQE"
      }
    },
    {
      "cell_type": "markdown",
      "source": [
        "We can then start doing numpy code with this by:"
      ],
      "metadata": {
        "id": "uHemGu94YR4q"
      }
    },
    {
      "cell_type": "code",
      "source": [
        "## Importing necessary libraries\n",
        "import numpy as np ## 'np' here is short-hand name of the library (numpy) or a nickname."
      ],
      "metadata": {
        "id": "b23ZoOYrYS9r"
      },
      "execution_count": 1,
      "outputs": []
    },
    {
      "cell_type": "code",
      "source": [
        "L = np.array([3, 2])\n",
        "M = np.array([1, -6])\n",
        "N = np.array([\n",
        "              [3],\n",
        "              [2],\n",
        "              [-3]\n",
        "])\n",
        "O = np.array ([[2],\n",
        "              [-3],\n",
        "              [2]])\n",
        "print('Vector L is ', L)\n",
        "print('Vector M is ', M)\n",
        "print('Vector N is ', N)\n",
        "print('Vector O is ', O)"
      ],
      "metadata": {
        "colab": {
          "base_uri": "https://localhost:8080/"
        },
        "id": "qj93Yk7kYUpW",
        "outputId": "689e1c1c-e003-433f-c69f-20204715163b"
      },
      "execution_count": 19,
      "outputs": [
        {
          "output_type": "stream",
          "name": "stdout",
          "text": [
            "Vector L is  [3 2]\n",
            "Vector M is  [ 1 -6]\n",
            "Vector N is  [[ 3]\n",
            " [ 2]\n",
            " [-3]]\n",
            "Vector O is  [[ 2]\n",
            " [-3]\n",
            " [ 2]]\n"
          ]
        }
      ]
    },
    {
      "cell_type": "markdown",
      "source": [
        "\n",
        "\n",
        "```\n",
        "# This is formatted as code\n",
        "```\n",
        "\n",
        "#### Describing vectors in NumPy"
      ],
      "metadata": {
        "id": "pxnJB239YrYO"
      }
    },
    {
      "cell_type": "markdown",
      "source": [
        "Describing vectors is very important if we want to perform basic to advanced operations with them. The fundamental ways in describing vectors are knowing their shape, size and dimensions."
      ],
      "metadata": {
        "id": "NBwcTheJYubv"
      }
    },
    {
      "cell_type": "code",
      "source": [
        "### Checking shapes\n",
        "### Shapes tells us how many elements are there on each row and column\n",
        "\n",
        "L.shape\n",
        "H = np.array([2, 1, 3, 6, -1.3, 1])\n",
        "H.shape\n",
        "N.shape"
      ],
      "metadata": {
        "colab": {
          "base_uri": "https://localhost:8080/"
        },
        "id": "Mv_wmF1VYyAW",
        "outputId": "9354ee83-987c-431f-dd07-a1729697fa6e"
      },
      "execution_count": 4,
      "outputs": [
        {
          "output_type": "execute_result",
          "data": {
            "text/plain": [
              "(3, 1)"
            ]
          },
          "metadata": {},
          "execution_count": 4
        }
      ]
    },
    {
      "cell_type": "code",
      "source": [
        "### Checking size\n",
        "### Array/Vector sizes tells us many total number of elements are there in the vector\n",
        "\n",
        "O.size"
      ],
      "metadata": {
        "colab": {
          "base_uri": "https://localhost:8080/"
        },
        "id": "Tt5zUnsnY9SA",
        "outputId": "4e2f9140-4d9a-4e85-a6e7-d92cd7961f44"
      },
      "execution_count": 5,
      "outputs": [
        {
          "output_type": "execute_result",
          "data": {
            "text/plain": [
              "3"
            ]
          },
          "metadata": {},
          "execution_count": 5
        }
      ]
    },
    {
      "cell_type": "code",
      "source": [
        "### Checking dimensions\n",
        "### The dimensions or rank of a vector tells us how many dimensions are there for the vector.\n",
        "\n",
        "O.ndim"
      ],
      "metadata": {
        "colab": {
          "base_uri": "https://localhost:8080/"
        },
        "id": "_gd55O9HY_T-",
        "outputId": "0d375501-13af-4631-c833-abce0cb75109"
      },
      "execution_count": 6,
      "outputs": [
        {
          "output_type": "execute_result",
          "data": {
            "text/plain": [
              "2"
            ]
          },
          "metadata": {},
          "execution_count": 6
        }
      ]
    },
    {
      "cell_type": "markdown",
      "source": [
        "Great! Now let's try to explore in performing operations with these vectors."
      ],
      "metadata": {
        "id": "-JfzUkA-ZA04"
      }
    },
    {
      "cell_type": "markdown",
      "source": [
        "####Addition"
      ],
      "metadata": {
        "id": "6tYDqLGNZFNJ"
      }
    },
    {
      "cell_type": "markdown",
      "source": [
        "The addition rule is simple, the we just need to add the elements of the matrices according to their index. So in this case if we add vector $L$ and vector $M$ we will have a resulting vector:\n",
        "\n",
        "\n"
      ],
      "metadata": {
        "id": "Hz1V925eZHIl"
      }
    },
    {
      "cell_type": "markdown",
      "source": [
        "$$J = 6\\hat{x}-2\\hat{y} \\\\ \\\\or \\\\ \\\\ J = \\begin{bmatrix} 6 \\\\ -2\\end{bmatrix} $$"
      ],
      "metadata": {
        "id": "-9Jez0u3ZKTU"
      }
    },
    {
      "cell_type": "markdown",
      "source": [
        "So let's try to do that in NumPy in several number of ways:"
      ],
      "metadata": {
        "id": "e2oXKeHxZLRs"
      }
    },
    {
      "cell_type": "code",
      "source": [
        "J = np.add(L, M) ## this is the functional method usisng the numpy library\n",
        "K = np.add(N, O)\n"
      ],
      "metadata": {
        "id": "U4M-bfpNZM5d"
      },
      "execution_count": 12,
      "outputs": []
    },
    {
      "cell_type": "code",
      "source": [
        "J = L + M   ## this is the explicit method, since Python does a value-reference so it can \n",
        "            ## know that these variables would need to do array operations.\n",
        "J"
      ],
      "metadata": {
        "colab": {
          "base_uri": "https://localhost:8080/"
        },
        "id": "gQDIw5faZV8G",
        "outputId": "80ec4609-5d27-4393-82a6-b0428deea696"
      },
      "execution_count": 13,
      "outputs": [
        {
          "output_type": "execute_result",
          "data": {
            "text/plain": [
              "array([ 4, -4])"
            ]
          },
          "metadata": {},
          "execution_count": 13
        }
      ]
    },
    {
      "cell_type": "code",
      "source": [
        "K = N + O\n",
        "K"
      ],
      "metadata": {
        "colab": {
          "base_uri": "https://localhost:8080/"
        },
        "id": "tZH76D-VZeXA",
        "outputId": "555fae30-7120-4d17-9c03-40df07631a55"
      },
      "execution_count": 14,
      "outputs": [
        {
          "output_type": "execute_result",
          "data": {
            "text/plain": [
              "array([[ 5],\n",
              "       [-1],\n",
              "       [-1]])"
            ]
          },
          "metadata": {},
          "execution_count": 14
        }
      ]
    },
    {
      "cell_type": "code",
      "source": [
        "pos1 = np.array([1,1,1])\n",
        "pos2 = np.array([1,2,4])\n",
        "pos3 = np.array([0,4,-1])\n",
        "pos4 = np.array([6,-2,2])\n",
        "#J = pos1 + pos2 + pos3 + pos4\n",
        "#J = np.multiply(pos1, pos4)\n",
        "R = pos3 / pos4\n",
        "R"
      ],
      "metadata": {
        "colab": {
          "base_uri": "https://localhost:8080/"
        },
        "id": "KH5O0-kTZyke",
        "outputId": "3a4ad7ba-44af-46b0-b6db-7d850124774e"
      },
      "execution_count": 17,
      "outputs": [
        {
          "output_type": "execute_result",
          "data": {
            "text/plain": [
              "array([ 0. , -2. , -0.5])"
            ]
          },
          "metadata": {},
          "execution_count": 17
        }
      ]
    },
    {
      "cell_type": "code",
      "source": [
        "pos1 = np.array([1,1,1])\n",
        "pos2 = np.array([1,2,4])\n",
        "pos3 = np.array([0,4,-1])\n",
        "pos4 = np.array([6,-2,2])\n",
        "R = pos1 + pos2 + pos3 + pos4\n",
        "#R = np.multiply(pos3, pos4)\n",
        "#R = pos2/ pos4\n",
        "R"
      ],
      "metadata": {
        "colab": {
          "base_uri": "https://localhost:8080/"
        },
        "id": "xbh7KlIlZ0TD",
        "outputId": "defbfdc0-5e31-4f86-c92e-8312c23d32fe"
      },
      "execution_count": 16,
      "outputs": [
        {
          "output_type": "execute_result",
          "data": {
            "text/plain": [
              "array([8, 5, 6])"
            ]
          },
          "metadata": {},
          "execution_count": 16
        }
      ]
    },
    {
      "cell_type": "code",
      "source": [
        "pos1 = np.array([1,1,1])\n",
        "pos2 = np.array([1,2,4])\n",
        "pos3 = np.array([0,4,-1])\n",
        "pos4 = np.array([6,-2,2])\n",
        "#R = pos1 + pos2 + pos3 + pos4\n",
        "R = np.multiply(pos3, pos4)\n",
        "#R = pos2 / pos4\n",
        "R"
      ],
      "metadata": {
        "colab": {
          "base_uri": "https://localhost:8080/"
        },
        "id": "RnmaW2aXZ2Dt",
        "outputId": "8fc4ef7e-c763-44f2-9bf6-d30c510319d0"
      },
      "execution_count": 18,
      "outputs": [
        {
          "output_type": "execute_result",
          "data": {
            "text/plain": [
              "array([ 0, -8, -2])"
            ]
          },
          "metadata": {},
          "execution_count": 18
        }
      ]
    },
    {
      "cell_type": "markdown",
      "source": [
        "##### Try for yourself!"
      ],
      "metadata": {
        "id": "Od_UlJQMZ5bf"
      }
    },
    {
      "cell_type": "markdown",
      "source": [
        "Try to implement subtraction, multiplication, and division with vectors $L$ and $M$!"
      ],
      "metadata": {
        "id": "h5txJDlgZ7VG"
      }
    },
    {
      "cell_type": "code",
      "source": [
        "### Try out you code here! \n",
        "\n",
        "### Try out you code here! \n",
        "### Subtraction\n",
        "D = np.subtract (L,M)\n",
        "\n",
        "D\n"
      ],
      "metadata": {
        "colab": {
          "base_uri": "https://localhost:8080/"
        },
        "id": "8eAo_RK9Z-vv",
        "outputId": "284d7130-a8db-49fc-a5dc-699aa8c93b12"
      },
      "execution_count": 20,
      "outputs": [
        {
          "output_type": "execute_result",
          "data": {
            "text/plain": [
              "array([2, 8])"
            ]
          },
          "metadata": {},
          "execution_count": 20
        }
      ]
    },
    {
      "cell_type": "code",
      "source": [
        "### Multiplication\n",
        "E = np.multiply (L,M)\n",
        "\n",
        "E"
      ],
      "metadata": {
        "colab": {
          "base_uri": "https://localhost:8080/"
        },
        "id": "IFRN3MGoaOqo",
        "outputId": "0876a984-4425-40e9-a761-9ef4ceb1027d"
      },
      "execution_count": 21,
      "outputs": [
        {
          "output_type": "execute_result",
          "data": {
            "text/plain": [
              "array([  3, -12])"
            ]
          },
          "metadata": {},
          "execution_count": 21
        }
      ]
    },
    {
      "cell_type": "code",
      "source": [
        "### Division\n",
        "F = np.divide (L,M)\n",
        "\n",
        "F"
      ],
      "metadata": {
        "colab": {
          "base_uri": "https://localhost:8080/"
        },
        "id": "YTG8FHeZaQrJ",
        "outputId": "08a9396c-e630-4323-fb91-db030ce8e002"
      },
      "execution_count": 22,
      "outputs": [
        {
          "output_type": "execute_result",
          "data": {
            "text/plain": [
              "array([ 3.        , -0.33333333])"
            ]
          },
          "metadata": {},
          "execution_count": 22
        }
      ]
    },
    {
      "cell_type": "markdown",
      "source": [
        "### Scaling"
      ],
      "metadata": {
        "id": "kiXnylFLaT6R"
      }
    },
    {
      "cell_type": "markdown",
      "source": [
        "Scaling or scalar multiplication takes a scalar value and performs multiplication with a vector. Let's take the example below:"
      ],
      "metadata": {
        "id": "UKMBA4ZlaXS-"
      }
    },
    {
      "cell_type": "markdown",
      "source": [
        ":$$S = 7 \\cdot L$$"
      ],
      "metadata": {
        "id": "aSxURnynaZSr"
      }
    },
    {
      "cell_type": "markdown",
      "source": [
        "We can do this in numpy through:"
      ],
      "metadata": {
        "id": "iemDj8_KabNL"
      }
    },
    {
      "cell_type": "code",
      "source": [
        "#S = 7 * L\n",
        "S = np.multiply(5,L)\n",
        "S"
      ],
      "metadata": {
        "colab": {
          "base_uri": "https://localhost:8080/"
        },
        "id": "D5Fy3sEAacHo",
        "outputId": "17b44b51-12b4-4643-fd04-7101359be298"
      },
      "execution_count": 23,
      "outputs": [
        {
          "output_type": "execute_result",
          "data": {
            "text/plain": [
              "array([15, 10])"
            ]
          },
          "metadata": {},
          "execution_count": 23
        }
      ]
    },
    {
      "cell_type": "markdown",
      "source": [
        "*`Try`* to implement scaling with two vectors."
      ],
      "metadata": {
        "id": "EpZB54DTagbp"
      }
    },
    {
      "cell_type": "code",
      "source": [
        "###Scaling with two vectors\n",
        "#S = 7 * L\n",
        "#S = 7 * M\n",
        "L = np.array ([2,1])\n",
        "M = np.array ([11,5])\n",
        "S = np.multiply (7,L)\n",
        "S"
      ],
      "metadata": {
        "colab": {
          "base_uri": "https://localhost:8080/"
        },
        "id": "PiXot-GnajZo",
        "outputId": "764136ec-e9ef-49cf-969d-a7a7356bef93"
      },
      "execution_count": 24,
      "outputs": [
        {
          "output_type": "execute_result",
          "data": {
            "text/plain": [
              "array([14,  7])"
            ]
          },
          "metadata": {},
          "execution_count": 24
        }
      ]
    },
    {
      "cell_type": "code",
      "source": [
        "###Scaling with two vectors\n",
        "#S = 7 * L\n",
        "#S = 7 * M\n",
        "L = np.array ([2,1])\n",
        "M = np.array ([11,5])\n",
        "S = np.multiply (7,M)\n",
        "S"
      ],
      "metadata": {
        "colab": {
          "base_uri": "https://localhost:8080/"
        },
        "id": "fjT1Ukmcal3W",
        "outputId": "d28c3b43-6b5e-4199-919d-e82d23040003"
      },
      "execution_count": 25,
      "outputs": [
        {
          "output_type": "execute_result",
          "data": {
            "text/plain": [
              "array([77, 35])"
            ]
          },
          "metadata": {},
          "execution_count": 25
        }
      ]
    },
    {
      "cell_type": "markdown",
      "source": [
        "### MatPlotLib"
      ],
      "metadata": {
        "id": "iIT4HxUAanl7"
      }
    },
    {
      "cell_type": "markdown",
      "source": [
        "MatPlotLib or MATLab Plotting library is Python's take on MATLabs plotting feature. MatPlotLib can be used vastly from graping values to visualizing several dimensions of data."
      ],
      "metadata": {
        "id": "BeXaSfnSaok1"
      }
    },
    {
      "cell_type": "markdown",
      "source": [
        "#### Visualizing Data"
      ],
      "metadata": {
        "id": "0rD5Nb31atFd"
      }
    },
    {
      "cell_type": "markdown",
      "source": [
        "It's not enough just solving these vectors so might need to visualize them. So we'll use MatPlotLib for that. We'll need to import it first."
      ],
      "metadata": {
        "id": "b_yZ5zRkat12"
      }
    },
    {
      "cell_type": "code",
      "source": [
        "import matplotlib.pyplot as plt\n",
        "import matplotlib\n",
        "%matplotlib inline"
      ],
      "metadata": {
        "id": "FJ_a47TRaxze"
      },
      "execution_count": 26,
      "outputs": []
    },
    {
      "cell_type": "code",
      "source": [
        "X = [0, -2]\n",
        "Y = [4, -2]\n",
        "#ax = plt.axes(projection='3d')\n",
        "plt.scatter(X[0], X[1], label='X', c='Green')\n",
        "plt.scatter(Y[0], Y[1], label='Y', c='Black')\n",
        "plt.grid()\n",
        "plt.legend()\n",
        "plt.show()"
      ],
      "metadata": {
        "colab": {
          "base_uri": "https://localhost:8080/",
          "height": 265
        },
        "id": "A33W-SUBazsU",
        "outputId": "2b2d2275-d3b5-4388-be0d-5825dd97545e"
      },
      "execution_count": 27,
      "outputs": [
        {
          "output_type": "display_data",
          "data": {
            "text/plain": [
              "<Figure size 432x288 with 1 Axes>"
            ],
            "image/png": "[encoded data removed]"
          },
          "metadata": {
            "needs_background": "light"
          }
        }
      ]
    },
    {
      "cell_type": "code",
      "source": [
        "A = np.array([2, 0])\n",
        "B = np.array([2, 6])\n",
        "R = A + B\n",
        "Magnitude = np.sqrt(np.sum(R**2))\n",
        "plt.title(\"Resultant Vector\\nMagnitude:{}\" .format(Magnitude))\n",
        "plt.xlim(-6, 4)\n",
        "plt.ylim(-6, 4)\n",
        "plt.quiver(0, 0, A[0], A[1], angles='xy', scale_units='xy', scale=1, color='Blue')\n",
        "plt.quiver(A[0], A[1], B[0], B[1], angles='xy', scale_units='xy', scale=1, color='Red')\n",
        "J = X + Y\n",
        "plt.quiver(0, 0, R[0], R[1], angles='xy', scale_units='xy', scale=1, color='Magenta')\n",
        "plt.grid()\n",
        "plt.show()\n",
        "print(J)\n",
        "print(Magnitude)\n",
        "Slope = R[1]/R[0]\n",
        "print(Slope)\n",
        "Angle = (np.arctan(Slope))*(180/np.pi)\n",
        "print(Angle)\n"
      ],
      "metadata": {
        "colab": {
          "base_uri": "https://localhost:8080/",
          "height": 370
        },
        "id": "85q7q4Oka3PA",
        "outputId": "7f4842b1-bd17-4195-b140-bdae81307d5d"
      },
      "execution_count": 28,
      "outputs": [
        {
          "output_type": "display_data",
          "data": {
            "text/plain": [
              "<Figure size 432x288 with 1 Axes>"
            ],
            "image/png": "[encoded data removed]"
          },
          "metadata": {
            "needs_background": "light"
          }
        },
        {
          "output_type": "stream",
          "name": "stdout",
          "text": [
            "[0, -2, 4, -2]\n",
            "7.211102550927978\n",
            "1.5\n",
            "56.309932474020215\n"
          ]
        }
      ]
    },
    {
      "cell_type": "code",
      "source": [
        "n = A.shape[0]\n",
        "plt.xlim(-10, 10)\n",
        "plt.ylim(-10, 10)\n",
        "plt.quiver(0,0, A[0], A[1], angles='xy', scale_units='xy',scale=1)\n",
        "plt.quiver(A[0],A[1], B[0], B[1], angles='xy', scale_units='xy',scale=1)\n",
        "plt.quiver(0,0, R[0], R[1], angles='xy', scale_units='xy',scale=1)\n",
        "plt.show()"
      ],
      "metadata": {
        "colab": {
          "base_uri": "https://localhost:8080/",
          "height": 269
        },
        "id": "1VRoNiWha5Z2",
        "outputId": "fc7e2f0b-0a3e-4af9-adf5-56c87213c91c"
      },
      "execution_count": 29,
      "outputs": [
        {
          "output_type": "display_data",
          "data": {
            "text/plain": [
              "<Figure size 432x288 with 1 Axes>"
            ],
            "image/png": "[encoded data removed]"
          },
          "metadata": {
            "needs_background": "light"
          }
        }
      ]
    },
    {
      "cell_type": "markdown",
      "source": [
        "#TASK"
      ],
      "metadata": {
        "id": "dKsCI48NbHix"
      }
    },
    {
      "cell_type": "markdown",
      "source": [
        "Try plotting Three Vectors and show the Resultant Vector as a result.\n",
        "Use Head to Tail Method."
      ],
      "metadata": {
        "id": "bdIqp2FIbK2J"
      }
    },
    {
      "cell_type": "code",
      "source": [
        "####Three vectors\n",
        "Zach = np.array([6, 3])\n",
        "Lorevel = np.array([9, 6])\n",
        "ChE = Zach + Lorevel\n",
        "Adamson = np.array([-11, 13])\n",
        "University = Adamson + Zach + Lorevel\n",
        "magnitude = np.sqrt(np.sum(University**2))\n",
        "plt.title(\"Resultant Vector\\nMagnitude: {} \\n Resultant: {}\".format(magnitude, University))\n",
        "plt.xlim(-10, 40)\n",
        "plt.ylim(-10, 40)\n",
        "plt.quiver(0, 0, Zach[0], Zach[1], angles='xy', scale_units='xy', scale=1, color='Blue')\n",
        "plt.quiver(Zach[0], Zach[1], Lorevel[0], Lorevel[1], angles='xy', scale_units='xy', scale=1, color='Pink')\n",
        "plt.quiver(ChE[0], ChE[1], Adamson[0], Adamson[1], angles='xy', scale_units='xy', scale=1, color='Black')\n",
        "plt.quiver(0, 0, University[0], University[1], angles='xy', scale_units='xy', scale=1, color='Violet')\n",
        "plt.grid()\n",
        "plt.show()\n",
        "Slope = R[1]/R[0]\n",
        "print(Slope)\n",
        "Angle = (np.arctan(Slope))*(180/np.pi)\n",
        "print(Angle)"
      ],
      "metadata": {
        "colab": {
          "base_uri": "https://localhost:8080/",
          "height": 348
        },
        "id": "yZzpYasobLfa",
        "outputId": "f030c02b-4271-4e7f-ba9b-68a2fc94d4a9"
      },
      "execution_count": 33,
      "outputs": [
        {
          "output_type": "display_data",
          "data": {
            "text/plain": [
              "<Figure size 432x288 with 1 Axes>"
            ],
            "image/png": "[encoded data removed]"
          },
          "metadata": {
            "needs_background": "light"
          }
        },
        {
          "output_type": "stream",
          "name": "stdout",
          "text": [
            "1.5\n",
            "56.309932474020215\n"
          ]
        }
      ]
    }
  ]
}