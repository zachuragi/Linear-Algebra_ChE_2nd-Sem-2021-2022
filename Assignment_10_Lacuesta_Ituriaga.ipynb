{
  "nbformat": 4,
  "nbformat_minor": 0,
  "metadata": {
    "colab": {
      "name": "Assignment 10_Lacuesta_Ituriaga",
      "provenance": [],
      "authorship_tag": "ABX9TyMVvxXFuHTZuxo1a6eKIxRx",
      "include_colab_link": true
    },
    "kernelspec": {
      "name": "python3",
      "display_name": "Python 3"
    },
    "language_info": {
      "name": "python"
    }
  },
  "cells": [
    {
      "cell_type": "markdown",
      "metadata": {
        "id": "view-in-github",
        "colab_type": "text"
      },
      "source": [
        "<a href=\"https://colab.research.google.com/github/zachuragi/Linear-Algebra_ChE_2nd-Sem-2021-2022/blob/main/Assignment_10_Lacuesta_Ituriaga.ipynb\" target=\"_parent\"><img src=\"https://colab.research.google.com/assets/colab-badge.svg\" alt=\"Open In Colab\"/></a>"
      ]
    },
    {
      "cell_type": "markdown",
      "source": [
        "# Linear Algebra for ChE\n",
        "## Laboratory 5 : Linear Combination and Vector Spaces"
      ],
      "metadata": {
        "id": "p0SkYFeMAqPo"
      }
    },
    {
      "cell_type": "markdown",
      "source": [
        "### Objectives\n",
        "At the end of this activity you will be able to:\n",
        "1. Be familiar with representing linear combinations in the 2-dimensional plane.\n",
        "2. Visualize spans using vector fields in Python.\n",
        "3. Perform vector fields operations using scientific programming."
      ],
      "metadata": {
        "id": "VzszlCrRAsVS"
      }
    },
    {
      "cell_type": "markdown",
      "source": [
        "## Discussion"
      ],
      "metadata": {
        "id": "JPVpLk90At42"
      }
    },
    {
      "cell_type": "code",
      "source": [
        "import numpy as np\n",
        "import matplotlib.pyplot as plt\n",
        "%matplotlib inline"
      ],
      "metadata": {
        "id": "bJSAbmEYAvnI"
      },
      "execution_count": 1,
      "outputs": []
    },
    {
      "cell_type": "markdown",
      "source": [
        "## Linear Combination"
      ],
      "metadata": {
        "id": "fqCXCH81Aw16"
      }
    },
    {
      "cell_type": "markdown",
      "source": [
        "A linear combination is defined as the addition of a vector's bases/components and its linear scaling.\n",
        "\n",
        "By charting a sample of real number values for the scalars for the vectors, we will attempt to visualize the vectors and their linear combinations. Let's start with the following vectors:"
      ],
      "metadata": {
        "id": "Lb0Vs9DLAzlw"
      }
    },
    {
      "cell_type": "markdown",
      "source": [
        "$$A = \\begin{bmatrix} 7\\\\16 \\\\\\end{bmatrix} , P = \\begin{bmatrix} 30\\\\5 \\\\\\end{bmatrix} $$"
      ],
      "metadata": {
        "id": "i7h4rjKKA4La"
      }
    },
    {
      "cell_type": "code",
      "source": [
        "vectA =  np.array([7,16])\n",
        "vectP =  np.array([30,5])\n",
        "vectA"
      ],
      "metadata": {
        "colab": {
          "base_uri": "https://localhost:8080/"
        },
        "id": "mYWPxNv_A6e-",
        "outputId": "792d7c52-695b-4038-d239-abf0d0d11f53"
      },
      "execution_count": 4,
      "outputs": [
        {
          "output_type": "execute_result",
          "data": {
            "text/plain": [
              "array([ 7, 16])"
            ]
          },
          "metadata": {},
          "execution_count": 4
        }
      ]
    },
    {
      "cell_type": "markdown",
      "source": [
        "#### Span of single vectors\n",
        "\n",
        "A line span can be used to represent the span of individual vectors, as mentioned in the lecture. As an example, consider the vector $A$."
      ],
      "metadata": {
        "id": "4pWEtCIlA8N7"
      }
    },
    {
      "cell_type": "markdown",
      "source": [
        "$$A = c\\cdot \\begin{bmatrix} 7\\\\14 \\\\\\end{bmatrix} $$"
      ],
      "metadata": {
        "id": "1sqg6bKbA_qY"
      }
    },
    {
      "cell_type": "code",
      "source": [
        "c = np.arange(-16,5,0.25)\n",
        "\n",
        "plt.scatter(c*vectA[0],c*vectA[1])\n",
        "\n",
        "plt.xlim(-16,16)\n",
        "plt.ylim(-16,16)\n",
        "plt.axhline(y=0, color='k')\n",
        "plt.axvline(x=0, color='k')\n",
        "plt.grid()\n",
        "plt.show()"
      ],
      "metadata": {
        "colab": {
          "base_uri": "https://localhost:8080/",
          "height": 265
        },
        "id": "YvGe6P61BBty",
        "outputId": "5ddb5422-caa2-475f-89f7-ef0dd9dde57c"
      },
      "execution_count": 5,
      "outputs": [
        {
          "output_type": "display_data",
          "data": {
            "text/plain": [
              "<Figure size 432x288 with 1 Axes>"
            ],
            "image/png": "[encoded data removed]"
          },
          "metadata": {
            "needs_background": "light"
          }
        }
      ]
    },
    {
      "cell_type": "markdown",
      "source": [
        "$$P = c\\cdot \\begin{bmatrix} 16\\\\30 \\\\\\end{bmatrix} $$"
      ],
      "metadata": {
        "id": "Uk9BDGa-BIEj"
      }
    },
    {
      "cell_type": "code",
      "source": [
        "A= np.array([7,2])\n",
        "c = np.arange(-7,7,0.25)\n",
        "\n",
        "plt.scatter(A[0],A[1])\n",
        "\n",
        "plt.xlim(-10,10)\n",
        "plt.ylim(-10,10)\n",
        "plt.axhline(y=0, color='k')\n",
        "plt.axvline(x=0, color='k')\n",
        "plt.grid()\n",
        "plt.show()"
      ],
      "metadata": {
        "colab": {
          "base_uri": "https://localhost:8080/",
          "height": 269
        },
        "id": "4aGrOxWoBKc6",
        "outputId": "1b0a10f7-cb6e-42b3-8957-49605bb6dc61"
      },
      "execution_count": 6,
      "outputs": [
        {
          "output_type": "display_data",
          "data": {
            "text/plain": [
              "<Figure size 432x288 with 1 Axes>"
            ],
            "image/png": "[encoded data removed]"
          },
          "metadata": {
            "needs_background": "light"
          }
        }
      ]
    },
    {
      "cell_type": "markdown",
      "source": [
        "### Span of a linear combination of vectors\n",
        "\n",
        "So, what if we wanted to plot the span of a linear vector combination? On a two-dimensional coordinate system, we can represent it as a plane. Consider the following linear combination's span:"
      ],
      "metadata": {
        "id": "3A59h2V-BMlw"
      }
    },
    {
      "cell_type": "markdown",
      "source": [
        "$$A = \\begin{Bmatrix} c_1 \\cdot\\begin{bmatrix} 4\\\\2 \\\\\\end{bmatrix}, \n",
        "c_2 \\cdot \\begin{bmatrix} 6\\\\-5 \\\\\\end{bmatrix}\\end{Bmatrix} $$"
      ],
      "metadata": {
        "id": "qgX7qW0dBQMb"
      }
    },
    {
      "cell_type": "code",
      "source": [
        "vectA = np.array([4,2])\n",
        "vectP = np.array([6,-5])\n",
        "\n",
        "R = np.arange(-15,15,2)\n",
        "\n",
        "c1, c2 = np.meshgrid(R,R)\n",
        "\n",
        "vectR = vectA + vectP\n",
        "spanRx = c1*vectA[0] + c2*vectP[0]\n",
        "spanRy = c1*vectA[1] + c2*vectP[1]\n",
        "plt.scatter(R*vectA[0],R*vectA[1])\n",
        "plt.scatter(R*vectP[0],R*vectP[1])\n",
        "plt.scatter(spanRx,spanRy, s=5, alpha=0.75)\n",
        "\n",
        "plt.axhline(y=0, color='k')\n",
        "plt.axvline(x=0, color='k')\n",
        "plt.grid()\n",
        "plt.show()"
      ],
      "metadata": {
        "colab": {
          "base_uri": "https://localhost:8080/",
          "height": 265
        },
        "id": "UJCrI7i7BR6c",
        "outputId": "1219cc15-c743-4226-89ca-3c53a9d15cbe"
      },
      "execution_count": 7,
      "outputs": [
        {
          "output_type": "display_data",
          "data": {
            "text/plain": [
              "<Figure size 432x288 with 1 Axes>"
            ],
            "image/png": "[encoded data removed]"
          },
          "metadata": {
            "needs_background": "light"
          }
        }
      ]
    },
    {
      "cell_type": "markdown",
      "source": [
        "$$B = \\begin{Bmatrix} c_1 \\cdot\\begin{bmatrix} 9\\\\4 \\\\\\end{bmatrix}, \n",
        "c_2 \\cdot \\begin{bmatrix} -5\\\\-7 \\\\\\end{bmatrix}\\end{Bmatrix} $$"
      ],
      "metadata": {
        "id": "cvNGPNCqBXUk"
      }
    },
    {
      "cell_type": "code",
      "source": [
        "vectO = np.array([7,-4])\n",
        "vectR = np.array([-5,-7])\n",
        "\n",
        "R = np.arange(-13,15,1)\n",
        "\n",
        "c1, c2 = np.meshgrid(R,R)\n",
        "\n",
        "vectR = vectO + vectR\n",
        "spanRx = c1*vectO[0] + c2*vectR[0]\n",
        "spanRy = c1*vectO[1] + c2*vectR[1]\n",
        "plt.scatter(R*vectO[0],R*vectO[1])\n",
        "plt.scatter(R*vectR[0],R*vectR[1])\n",
        "#plt.scatter(spanRx,spanRy, s=5, alpha=0.75)\n",
        "\n",
        "plt.axhline(y=0, color='k')\n",
        "plt.axvline(x=0, color='k')\n",
        "plt.grid()\n",
        "plt.show()"
      ],
      "metadata": {
        "colab": {
          "base_uri": "https://localhost:8080/",
          "height": 265
        },
        "id": "DKEG4K1ZBYPg",
        "outputId": "4a557a1d-6e92-4dac-c629-151db8fefe22"
      },
      "execution_count": 8,
      "outputs": [
        {
          "output_type": "display_data",
          "data": {
            "text/plain": [
              "<Figure size 432x288 with 1 Axes>"
            ],
            "image/png": "[encoded data removed]"
          },
          "metadata": {
            "needs_background": "light"
          }
        }
      ]
    },
    {
      "cell_type": "markdown",
      "source": [
        "Take note that if vectors are seen to be as a 2-dimensional span we can say it has a Rank of 2 or $\\mathbb{R}^2$. But if the span of the linear combination of vectors are seen to be like a line, they are said to be <b> linearly dependent </b> and they have a rank of 1 or $\\mathbb{R}^1$."
      ],
      "metadata": {
        "id": "6oxICx8NBa4y"
      }
    },
    {
      "cell_type": "markdown",
      "source": [
        "# Activity\n",
        "\n",
        "### Task 1\n",
        "## LaTeX Format Equation"
      ],
      "metadata": {
        "id": "qWALTRFtBdpu"
      }
    },
    {
      "cell_type": "markdown",
      "source": [
        "## LaTeX Form:\n",
        "\n",
        "$$A = \\begin{Bmatrix} A \\cdot\\begin{bmatrix} 6\\\\3 \\\\\\end{bmatrix}, \n",
        "B \\cdot \\begin{bmatrix} 9\\\\3 \\\\\\end{bmatrix}\\end{Bmatrix} $$\n",
        "$$\n",
        "X = \\begin{array}\\\n",
        "        6\\hat{x} + 3\\hat{y} \\\\ \n",
        "    \\end{array}\n",
        "$$\n",
        "$$\n",
        "Y = \\begin{array}\\\n",
        "        9\\hat{x} + 3\\hat{y} \\\\ \n",
        "    \\end{array}\n",
        "$$"
      ],
      "metadata": {
        "id": "Wm0wOPH4BlFo"
      }
    },
    {
      "cell_type": "code",
      "source": [
        "X = np.array([6,3])\n",
        "Y = np.array([9,3])\n",
        "#Y= np.array([-1,-3])\n",
        "\n",
        "Z = np.arange(-16,16,1)\n",
        "\n",
        "A, B = np.meshgrid(Z,Z)\n",
        "                    \n",
        "vectZ = X + Y\n",
        "spanZx = A*X[0] + B*Y[0]\n",
        "spanZy = A*X[1] + B*Y[1]\n",
        "plt.scatter(Z*X[0],Z*Y[1])\n",
        "plt.scatter(Z*X[0],Z*Y[1])\n",
        "plt.scatter(spanZx,spanZy, s=0.5, alpha=0.5)\n",
        "plt.axhline(y=0, color='k')\n",
        "plt.axvline(x=0, color='k')\n",
        "plt.grid()\n",
        "plt.show()"
      ],
      "metadata": {
        "colab": {
          "base_uri": "https://localhost:8080/",
          "height": 265
        },
        "id": "GjbSWx1GBsdK",
        "outputId": "d655c7e9-9b17-424a-b552-f90920d68b3b"
      },
      "execution_count": 13,
      "outputs": [
        {
          "output_type": "display_data",
          "data": {
            "text/plain": [
              "<Figure size 432x288 with 1 Axes>"
            ],
            "image/png": "[encoded data removed]"
          },
          "metadata": {
            "needs_background": "light"
          }
        }
      ]
    }
  ]
}