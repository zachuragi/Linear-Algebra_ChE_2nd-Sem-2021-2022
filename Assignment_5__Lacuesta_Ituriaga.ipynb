{
  "nbformat": 4,
  "nbformat_minor": 0,
  "metadata": {
    "colab": {
      "name": "Assignment 5_ Lacuesta_Ituriaga",
      "provenance": [],
      "authorship_tag": "ABX9TyOqA2uO7tt7Mr1lM7pw0xqA",
      "include_colab_link": true
    },
    "kernelspec": {
      "name": "python3",
      "display_name": "Python 3"
    },
    "language_info": {
      "name": "python"
    }
  },
  "cells": [
    {
      "cell_type": "markdown",
      "metadata": {
        "id": "view-in-github",
        "colab_type": "text"
      },
      "source": [
        "<a href=\"https://colab.research.google.com/github/zachuragi/Linear-Algebra_ChE_2nd-Sem-2021-2022/blob/main/Assignment_5__Lacuesta_Ituriaga.ipynb\" target=\"_parent\"><img src=\"https://colab.research.google.com/assets/colab-badge.svg\" alt=\"Open In Colab\"/></a>"
      ]
    },
    {
      "cell_type": "markdown",
      "source": [
        "#Linear Algebra for ChE\n",
        "\n",
        "##Objectives\n",
        "1. Be familiar with the fundamental matrix operations.\n",
        "2. Apply the operations to solve \n",
        "3. Apply matrix algebra in engineering solutions. "
      ],
      "metadata": {
        "id": "EceTLusxE3_Y"
      }
    },
    {
      "cell_type": "code",
      "source": [
        "import numpy as np\n",
        "import matplotlib.pyplot as plt\n",
        "%matplotlib inline"
      ],
      "metadata": {
        "id": "rYQco3qqE7_D"
      },
      "execution_count": 68,
      "outputs": []
    },
    {
      "cell_type": "markdown",
      "source": [
        "#Transposition\n",
        "One of the fundamental operations in matrix algebra is Transposition. The transpose of a matrix is done by flipping the values of its elements over its diagonals. With this, the rows and columns from the original matrix will be switched. So for matrix A, its transpose is denoted as $A^T$. So for example:\n",
        "\n",
        ":$$\n",
        "M=\\begin{bmatrix} 7 & 3 & 1 & \\\\ 0 & 2 & 8 & \\\\ 1 & 5 & 9 & \\end{bmatrix}\n",
        "$$\n",
        "\n",
        "\n",
        ":$$\n",
        "M^T=\\begin{bmatrix} 7 & 0 & 1 & \\\\ 3 & 2 & 5 & \\\\ 1 & 8 & 9 & \\end{bmatrix}\n",
        "$$"
      ],
      "metadata": {
        "id": "56hPZn00E-Qp"
      }
    },
    {
      "cell_type": "code",
      "source": [
        "A = np.array([\n",
        "    [7, 3, 1],\n",
        "    [0, -2, 8],\n",
        "    [1, 5, 9]\n",
        "])\n",
        "A"
      ],
      "metadata": {
        "id": "tZtXA2WVFmLv",
        "colab": {
          "base_uri": "https://localhost:8080/"
        },
        "outputId": "b1e0b9eb-96ab-4c74-aba0-41d73d3f7663"
      },
      "execution_count": 72,
      "outputs": [
        {
          "output_type": "execute_result",
          "data": {
            "text/plain": [
              "array([[ 7,  3,  1],\n",
              "       [ 0, -2,  8],\n",
              "       [ 1,  5,  9]])"
            ]
          },
          "metadata": {},
          "execution_count": 72
        }
      ]
    },
    {
      "cell_type": "code",
      "source": [
        "AT1 = np.transpose(A)\n",
        "AT1"
      ],
      "metadata": {
        "id": "plwHSSTYFova",
        "colab": {
          "base_uri": "https://localhost:8080/"
        },
        "outputId": "c884a8a2-1c41-45d1-c2a5-afde78713579"
      },
      "execution_count": 71,
      "outputs": [
        {
          "output_type": "execute_result",
          "data": {
            "text/plain": [
              "array([[7, 0, 1],\n",
              "       [8, 1, 3],\n",
              "       [9, 2, 5]])"
            ]
          },
          "metadata": {},
          "execution_count": 71
        }
      ]
    },
    {
      "cell_type": "code",
      "source": [
        "AT2 = A.T\n",
        "AT2"
      ],
      "metadata": {
        "id": "u1VpYwdQFrlZ",
        "colab": {
          "base_uri": "https://localhost:8080/"
        },
        "outputId": "bf36fc81-1a64-4f34-be87-a96a2d172c2d"
      },
      "execution_count": 65,
      "outputs": [
        {
          "output_type": "execute_result",
          "data": {
            "text/plain": [
              "array([[7, 0, 1],\n",
              "       [8, 1, 3],\n",
              "       [9, 2, 5]])"
            ]
          },
          "metadata": {},
          "execution_count": 65
        }
      ]
    },
    {
      "cell_type": "code",
      "source": [
        "np.array_equiv(AT1, AT2)"
      ],
      "metadata": {
        "id": "h7gxE8c8Ft79",
        "colab": {
          "base_uri": "https://localhost:8080/"
        },
        "outputId": "0ae75e86-5003-4390-9101-850be3ea1ea6"
      },
      "execution_count": 66,
      "outputs": [
        {
          "output_type": "execute_result",
          "data": {
            "text/plain": [
              "True"
            ]
          },
          "metadata": {},
          "execution_count": 66
        }
      ]
    },
    {
      "cell_type": "code",
      "source": [
        "B = np.array([\n",
        "    [1, 7, 4, 9],\n",
        "    [5, 2, 0, -5],\n",
        "    [7, -4, 3, 9]\n",
        "])\n",
        "B.shape"
      ],
      "metadata": {
        "id": "UAhaRd-qFwk8",
        "colab": {
          "base_uri": "https://localhost:8080/"
        },
        "outputId": "53052da5-caaa-492b-cdee-bca508314a34"
      },
      "execution_count": 67,
      "outputs": [
        {
          "output_type": "execute_result",
          "data": {
            "text/plain": [
              "(3, 4)"
            ]
          },
          "metadata": {},
          "execution_count": 67
        }
      ]
    },
    {
      "cell_type": "code",
      "source": [
        "np.transpose(B).shape"
      ],
      "metadata": {
        "id": "bTPoalHFFzxq",
        "colab": {
          "base_uri": "https://localhost:8080/"
        },
        "outputId": "95709081-a7b9-4f3a-e0e6-c737ae27bdf0"
      },
      "execution_count": 9,
      "outputs": [
        {
          "output_type": "execute_result",
          "data": {
            "text/plain": [
              "(4, 3)"
            ]
          },
          "metadata": {},
          "execution_count": 9
        }
      ]
    },
    {
      "cell_type": "code",
      "source": [
        "B.T.shape"
      ],
      "metadata": {
        "id": "8XDOdhVKF35P",
        "colab": {
          "base_uri": "https://localhost:8080/"
        },
        "outputId": "cd5dd04a-babe-43fb-99bb-f28ec597b76c"
      },
      "execution_count": 10,
      "outputs": [
        {
          "output_type": "execute_result",
          "data": {
            "text/plain": [
              "(4, 3)"
            ]
          },
          "metadata": {},
          "execution_count": 10
        }
      ]
    },
    {
      "cell_type": "markdown",
      "source": [
        "Try to create your own matrix (you can try non-squares) to test transposition"
      ],
      "metadata": {
        "id": "II44zEuhF7nY"
      }
    },
    {
      "cell_type": "code",
      "source": [
        "zachy= np.array ([\n",
        "    [7, 14, 21],\n",
        "    [0, 1, 2],\n",
        "    [1, 3, 5],\n",
        "    [3,30,60]\n",
        "])\n",
        "print('zachy matrix: \\n',alex, '\\n')\n",
        "print('Shape: ',zachy.shape)"
      ],
      "metadata": {
        "id": "iZn0wABXF4-9",
        "colab": {
          "base_uri": "https://localhost:8080/"
        },
        "outputId": "4a98124e-8409-4d53-c436-c72710c50592"
      },
      "execution_count": 74,
      "outputs": [
        {
          "output_type": "stream",
          "name": "stdout",
          "text": [
            "zachy matrix: \n",
            " [[ 7 14 21]\n",
            " [ 0  1  2]\n",
            " [ 1  3  5]\n",
            " [ 3 30 60]] \n",
            "\n",
            "Shape:  (4, 3)\n"
          ]
        }
      ]
    },
    {
      "cell_type": "code",
      "source": [
        "print('Transpose Shape: ',np.transpose(zachy).shape)"
      ],
      "metadata": {
        "id": "unLjJK8FGC79",
        "colab": {
          "base_uri": "https://localhost:8080/"
        },
        "outputId": "2eab9f5a-024a-4cd1-888d-2cbecd0d8a9c"
      },
      "execution_count": 75,
      "outputs": [
        {
          "output_type": "stream",
          "name": "stdout",
          "text": [
            "Transpose Shape:  (3, 4)\n"
          ]
        }
      ]
    },
    {
      "cell_type": "code",
      "source": [
        "print('Transpose Shape: ',zachy.T.shape)"
      ],
      "metadata": {
        "id": "TvJUqXXqGGGz",
        "colab": {
          "base_uri": "https://localhost:8080/"
        },
        "outputId": "00ea417e-01da-4fe7-c323-587e4fafe256"
      },
      "execution_count": 76,
      "outputs": [
        {
          "output_type": "stream",
          "name": "stdout",
          "text": [
            "Transpose Shape:  (3, 4)\n"
          ]
        }
      ]
    },
    {
      "cell_type": "markdown",
      "source": [
        "##Dot Product / Inner product"
      ],
      "metadata": {
        "id": "CeMuFvvwGJQI"
      }
    },
    {
      "cell_type": "markdown",
      "source": [
        "If you recall the dot product from laboratory activity before, we will try to implement the same operation with matrices. In matrix dot product we are going to get the sum of products of the vectors by row-column pairs. So if we have two matrices $X$ and $Y$:\n",
        "\n",
        "$$X = \\begin{bmatrix}x_{(0,0)}&x_{(0,1)}\\\\ x_{(1,0)}&x_{(1,1)}\\end{bmatrix}, Y = \\begin{bmatrix}y_{(0,0)}&y_{(0,1)}\\\\ y_{(1,0)}&y_{(1,1)}\\end{bmatrix}$$\n",
        "\n",
        "The dot product will then be computed as:\n",
        "$$X \\cdot Y= \\begin{bmatrix} x_{(0,0)}*y_{(0,0)} + x_{(0,1)}*y_{(1,0)} & x_{(0,0)}*y_{(0,1)} + x_{(0,1)}*y_{(1,1)} \\\\  x_{(1,0)}*y_{(0,0)} + x_{(1,1)}*y_{(1,0)} & x_{(1,0)}*y_{(0,1)} + x_{(1,1)}*y_{(1,1)}\n",
        "\\end{bmatrix}$$\n",
        "\n",
        "So if we assign values to $X$ and $Y$:\n",
        "$$X = \\begin{bmatrix}1&2\\\\ 0&1\\end{bmatrix}, Y = \\begin{bmatrix}-1&0\\\\ 2&2\\end{bmatrix}$$"
      ],
      "metadata": {
        "id": "OWsVoCmrGK_L"
      }
    },
    {
      "cell_type": "markdown",
      "source": [
        "$$X \\cdot Y= \\begin{bmatrix} 1*-1 + 2*2 & 1*0 + 2*2 \\\\  0*-1 + 1*2 & 0*0 + 1*2 \\end{bmatrix} = \\begin{bmatrix} 3 & 4 \\\\2 & 2 \\end{bmatrix}$$\n",
        "This could be achieved programmatically using `np.dot()`, `np.matmul()` or the `@` operator."
      ],
      "metadata": {
        "id": "gWDNFKGQGPSO"
      }
    },
    {
      "cell_type": "code",
      "source": [
        "A = np.array([\n",
        "    [7,5],\n",
        "    [9,4]\n",
        "])\n",
        "M = np.array([\n",
        "    [8,6],\n",
        "    [3,5]\n",
        "])"
      ],
      "metadata": {
        "id": "1M5YWnAqGTeD"
      },
      "execution_count": 14,
      "outputs": []
    },
    {
      "cell_type": "code",
      "source": [
        "P= np.array ([  \n",
        "    [1,7,8,9,5,6,0],\n",
        "    [2,5,6,7,8,9,1]\n",
        "])"
      ],
      "metadata": {
        "id": "HKbgyOraGZET"
      },
      "execution_count": 15,
      "outputs": []
    },
    {
      "cell_type": "code",
      "source": [
        "np.array_equiv(A,M)"
      ],
      "metadata": {
        "id": "ia9jDrvDGbOi",
        "colab": {
          "base_uri": "https://localhost:8080/"
        },
        "outputId": "c482c69b-d512-4729-8f56-11367098cf00"
      },
      "execution_count": 16,
      "outputs": [
        {
          "output_type": "execute_result",
          "data": {
            "text/plain": [
              "False"
            ]
          },
          "metadata": {},
          "execution_count": 16
        }
      ]
    },
    {
      "cell_type": "code",
      "source": [
        "np.dot(A,M)"
      ],
      "metadata": {
        "id": "Zy63dHV5GdPi",
        "colab": {
          "base_uri": "https://localhost:8080/"
        },
        "outputId": "f09566aa-94bb-4115-8eab-5582a0480403"
      },
      "execution_count": 17,
      "outputs": [
        {
          "output_type": "execute_result",
          "data": {
            "text/plain": [
              "array([[71, 67],\n",
              "       [84, 74]])"
            ]
          },
          "metadata": {},
          "execution_count": 17
        }
      ]
    },
    {
      "cell_type": "code",
      "source": [
        "A.dot(M)"
      ],
      "metadata": {
        "id": "DgzT4UlYGg6P",
        "colab": {
          "base_uri": "https://localhost:8080/"
        },
        "outputId": "a877036b-2c2c-403b-c57d-39715f6e039f"
      },
      "execution_count": 18,
      "outputs": [
        {
          "output_type": "execute_result",
          "data": {
            "text/plain": [
              "array([[71, 67],\n",
              "       [84, 74]])"
            ]
          },
          "metadata": {},
          "execution_count": 18
        }
      ]
    },
    {
      "cell_type": "code",
      "source": [
        "A @ M"
      ],
      "metadata": {
        "id": "htWwQnKlGkBk",
        "colab": {
          "base_uri": "https://localhost:8080/"
        },
        "outputId": "3f837059-0bb8-45b3-9b69-0a2372ec34da"
      },
      "execution_count": 19,
      "outputs": [
        {
          "output_type": "execute_result",
          "data": {
            "text/plain": [
              "array([[71, 67],\n",
              "       [84, 74]])"
            ]
          },
          "metadata": {},
          "execution_count": 19
        }
      ]
    },
    {
      "cell_type": "code",
      "source": [
        "np.matmul(A,M)"
      ],
      "metadata": {
        "id": "sRZz37FZGl9Q",
        "colab": {
          "base_uri": "https://localhost:8080/"
        },
        "outputId": "d7ce3760-2105-441c-908e-bf261c89eac2"
      },
      "execution_count": 20,
      "outputs": [
        {
          "output_type": "execute_result",
          "data": {
            "text/plain": [
              "array([[71, 67],\n",
              "       [84, 74]])"
            ]
          },
          "metadata": {},
          "execution_count": 20
        }
      ]
    },
    {
      "cell_type": "markdown",
      "source": [
        "In matrix dot products there are additional rules compared with vector dot products. Since vector dot products were just in one dimension there are less restrictions. Since now we are dealing with Rank 2 vectors we need to consider some rules:\n",
        "\n",
        "### Rule 1: The inner dimensions of the two matrices in question must be the same. \n",
        "\n",
        "So given a matrix $A$ with a shape of $(a,b)$ where $a$ and $b$ are any integers. If we want to do a dot product between $A$ and another matrix $B$, then matrix $B$ should have a shape of $(b,c)$ where $b$ and $c$ are any integers. So for given the following matrices:\n",
        "\n",
        "$$A = \\begin{bmatrix}2&4\\\\5&-2\\\\0&1\\end{bmatrix}, B = \\begin{bmatrix}1&1\\\\3&3\\\\-1&-2\\end{bmatrix}, C = \\begin{bmatrix}0&1&1\\\\1&1&2\\end{bmatrix}$$\n",
        "\n",
        "So in this case $A$ has a shape of $(3,2)$, $B$ has a shape of $(3,2)$ and $C$ has a shape of $(2,3)$. So the only matrix pairs that is eligible to perform dot product is matrices $A \\cdot C$, or $B \\cdot C$."
      ],
      "metadata": {
        "id": "wgRfnAQjGrLD"
      }
    },
    {
      "cell_type": "code",
      "source": [
        "A = np.array([\n",
        "    [7, 5],\n",
        "    [3, 4],\n",
        "    [5, 7],\n",
        "    [0,9]\n",
        "])\n",
        "M = np.array([\n",
        "    [8,3],\n",
        "    [5,6],\n",
        "    [7,-2],\n",
        "    [4,7]\n",
        "])\n",
        "P = np.array([\n",
        "    [1,5,8],\n",
        "    [2,6,8]\n",
        "])\n",
        "print(A.shape)\n",
        "print(M.shape)\n",
        "print(P.shape)"
      ],
      "metadata": {
        "id": "xDen7xc-G-z1",
        "colab": {
          "base_uri": "https://localhost:8080/"
        },
        "outputId": "ef3bd8ff-aa46-477c-9edc-28595badde27"
      },
      "execution_count": 21,
      "outputs": [
        {
          "output_type": "stream",
          "name": "stdout",
          "text": [
            "(4, 2)\n",
            "(4, 2)\n",
            "(2, 3)\n"
          ]
        }
      ]
    },
    {
      "cell_type": "code",
      "source": [
        "A @ P"
      ],
      "metadata": {
        "id": "0CLi4nCGHCxu",
        "colab": {
          "base_uri": "https://localhost:8080/"
        },
        "outputId": "461e468e-2c85-4d63-f563-14feb2afa818"
      },
      "execution_count": 22,
      "outputs": [
        {
          "output_type": "execute_result",
          "data": {
            "text/plain": [
              "array([[17, 65, 96],\n",
              "       [11, 39, 56],\n",
              "       [19, 67, 96],\n",
              "       [18, 54, 72]])"
            ]
          },
          "metadata": {},
          "execution_count": 22
        }
      ]
    },
    {
      "cell_type": "code",
      "source": [
        "M @ P"
      ],
      "metadata": {
        "id": "gut4UHzPHFkm",
        "colab": {
          "base_uri": "https://localhost:8080/"
        },
        "outputId": "5c39953e-9119-4b89-836d-c11233d42566"
      },
      "execution_count": 23,
      "outputs": [
        {
          "output_type": "execute_result",
          "data": {
            "text/plain": [
              "array([[14, 58, 88],\n",
              "       [17, 61, 88],\n",
              "       [ 3, 23, 40],\n",
              "       [18, 62, 88]])"
            ]
          },
          "metadata": {},
          "execution_count": 23
        }
      ]
    },
    {
      "cell_type": "markdown",
      "source": [
        "If you would notice the shape of the dot product changed and its shape is not the same as any of the matrices we used. The shape of a dot product is actually derived from the shapes of the matrices used. So recall matrix $A$ with a shape of $(a,b)$ and matrix $B$ with a shape of $(b,c)$, $A \\cdot B$ should have a shape $(a,c)$."
      ],
      "metadata": {
        "id": "-FmJGm2ZHJjJ"
      }
    },
    {
      "cell_type": "code",
      "source": [
        "A @ M.T"
      ],
      "metadata": {
        "id": "QwXBtRcCHLsu",
        "colab": {
          "base_uri": "https://localhost:8080/"
        },
        "outputId": "eb61fd57-4d9b-46b1-db7d-15c1be5980f2"
      },
      "execution_count": 24,
      "outputs": [
        {
          "output_type": "execute_result",
          "data": {
            "text/plain": [
              "array([[ 71,  65,  39,  63],\n",
              "       [ 36,  39,  13,  40],\n",
              "       [ 61,  67,  21,  69],\n",
              "       [ 27,  54, -18,  63]])"
            ]
          },
          "metadata": {},
          "execution_count": 24
        }
      ]
    },
    {
      "cell_type": "code",
      "source": [
        "A = np.array([\n",
        "    [1,2,3,0]\n",
        "])\n",
        "P = np.array([\n",
        "    [1,0,4,-1]\n",
        "])\n",
        "print(A.shape)\n",
        "print(P.shape)"
      ],
      "metadata": {
        "id": "NS5nmYf_HWGn",
        "colab": {
          "base_uri": "https://localhost:8080/"
        },
        "outputId": "a689aa2c-9202-41ce-abe1-2729a027a566"
      },
      "execution_count": 25,
      "outputs": [
        {
          "output_type": "stream",
          "name": "stdout",
          "text": [
            "(1, 4)\n",
            "(1, 4)\n"
          ]
        }
      ]
    },
    {
      "cell_type": "code",
      "source": [
        "P.T @ A"
      ],
      "metadata": {
        "id": "csWJFtpEHYjG",
        "colab": {
          "base_uri": "https://localhost:8080/"
        },
        "outputId": "046af830-6abc-4b0b-df2b-3e75f50e1e29"
      },
      "execution_count": 26,
      "outputs": [
        {
          "output_type": "execute_result",
          "data": {
            "text/plain": [
              "array([[ 1,  2,  3,  0],\n",
              "       [ 0,  0,  0,  0],\n",
              "       [ 4,  8, 12,  0],\n",
              "       [-1, -2, -3,  0]])"
            ]
          },
          "metadata": {},
          "execution_count": 26
        }
      ]
    },
    {
      "cell_type": "markdown",
      "source": [
        "And you can see that when you try to multiply A and B, it returns `ValueError` pertaining to matrix shape mismatch."
      ],
      "metadata": {
        "id": "HbVBkNNEHbLM"
      }
    },
    {
      "cell_type": "markdown",
      "source": [
        "### Rule 2: Dot Product has special properties\n",
        "\n",
        "Dot products are prevalent in matrix algebra, this implies that it has several unique properties and it should be considered when formulation solutions:\n",
        " 1. $A \\cdot B \\neq B \\cdot A$\n",
        " 2. $A \\cdot (B \\cdot C) = (A \\cdot B) \\cdot C$\n",
        " 3. $A\\cdot(B+C) = A\\cdot B + A\\cdot C$\n",
        " 4. $(B+C)\\cdot A = B\\cdot A + C\\cdot A$\n",
        " 5. $A\\cdot I = A$\n",
        " 6. $A\\cdot \\emptyset = \\emptyset$"
      ],
      "metadata": {
        "id": "d94p1zQzGved"
      }
    },
    {
      "cell_type": "code",
      "source": [
        "A = np.array([\n",
        "    [7, 5,3],\n",
        "    [3, 4,7],\n",
        "    [5, 7,1]\n",
        "])\n",
        "B = np.array([\n",
        "    [8,3,8],\n",
        "    [5,6,9],\n",
        "    [7,2,5]\n",
        "])\n",
        "C = np.array([\n",
        "    [1,5,2],\n",
        "    [2,6,8],\n",
        "    [6,3,7]\n",
        "])"
      ],
      "metadata": {
        "id": "daWnB4byHhP5"
      },
      "execution_count": 27,
      "outputs": []
    },
    {
      "cell_type": "code",
      "source": [
        "A.dot(np.zeros(A.shape))"
      ],
      "metadata": {
        "id": "zXPAZag1Hjgg",
        "colab": {
          "base_uri": "https://localhost:8080/"
        },
        "outputId": "fad16faf-5118-4ab2-e870-e1ca927be837"
      },
      "execution_count": 28,
      "outputs": [
        {
          "output_type": "execute_result",
          "data": {
            "text/plain": [
              "array([[0., 0., 0.],\n",
              "       [0., 0., 0.],\n",
              "       [0., 0., 0.]])"
            ]
          },
          "metadata": {},
          "execution_count": 28
        }
      ]
    },
    {
      "cell_type": "code",
      "source": [
        "z_mat = np.zeros(A.shape)\n",
        "z_mat"
      ],
      "metadata": {
        "id": "TWDSJbFXHwc6",
        "colab": {
          "base_uri": "https://localhost:8080/"
        },
        "outputId": "49ee6a8c-6dc0-4b3b-a783-71da506dfc2f"
      },
      "execution_count": 29,
      "outputs": [
        {
          "output_type": "execute_result",
          "data": {
            "text/plain": [
              "array([[0., 0., 0.],\n",
              "       [0., 0., 0.],\n",
              "       [0., 0., 0.]])"
            ]
          },
          "metadata": {},
          "execution_count": 29
        }
      ]
    },
    {
      "cell_type": "code",
      "source": [
        "a_dot_z = A.dot(np.zeros(A.shape))\n",
        "a_dot_z"
      ],
      "metadata": {
        "id": "sIJ51Q9aH2-B",
        "colab": {
          "base_uri": "https://localhost:8080/"
        },
        "outputId": "9291c9be-571c-483b-bb19-3b24ed0afaf1"
      },
      "execution_count": 30,
      "outputs": [
        {
          "output_type": "execute_result",
          "data": {
            "text/plain": [
              "array([[0., 0., 0.],\n",
              "       [0., 0., 0.],\n",
              "       [0., 0., 0.]])"
            ]
          },
          "metadata": {},
          "execution_count": 30
        }
      ]
    },
    {
      "cell_type": "code",
      "source": [
        "np.array_equal(a_dot_z,z_mat)"
      ],
      "metadata": {
        "id": "V7u90tHtIHAw",
        "colab": {
          "base_uri": "https://localhost:8080/"
        },
        "outputId": "723ce622-9fbc-420e-d4f9-a7f63bb459e6"
      },
      "execution_count": 31,
      "outputs": [
        {
          "output_type": "execute_result",
          "data": {
            "text/plain": [
              "True"
            ]
          },
          "metadata": {},
          "execution_count": 31
        }
      ]
    },
    {
      "cell_type": "code",
      "source": [
        "null_mat = np.empty(A.shape, dtype=float)\n",
        "null = np.array(null_mat,dtype=float)\n",
        "print(null)\n",
        "np.allclose(a_dot_z,null)"
      ],
      "metadata": {
        "id": "vekFi0i-IJeX",
        "colab": {
          "base_uri": "https://localhost:8080/"
        },
        "outputId": "f8533a20-01ff-4283-bb17-bcdacde92cfe"
      },
      "execution_count": 32,
      "outputs": [
        {
          "output_type": "stream",
          "name": "stdout",
          "text": [
            "[[0. 0. 0.]\n",
            " [0. 0. 0.]\n",
            " [0. 0. 0.]]\n"
          ]
        },
        {
          "output_type": "execute_result",
          "data": {
            "text/plain": [
              "True"
            ]
          },
          "metadata": {},
          "execution_count": 32
        }
      ]
    },
    {
      "cell_type": "markdown",
      "source": [
        "## Determinant"
      ],
      "metadata": {
        "id": "BJ2psCZlILQt"
      }
    },
    {
      "cell_type": "markdown",
      "source": [
        "A determinant is a scalar value derived from a square matrix. The determinant is a fundamental and important value used in matrix algebra. Although it will not be evident in this laboratory on how it can be used practically, but it will be reatly used in future lessons.\n",
        "\n",
        "The determinant of some matrix $A$ is denoted as $det(A)$ or $|A|$. So let's say $A$ is represented as:\n",
        "$$A = \\begin{bmatrix}a_{(0,0)}&a_{(0,1)}\\\\a_{(1,0)}&a_{(1,1)}\\end{bmatrix}$$\n",
        "We can compute for the determinant as:\n",
        "$$|A| = a_{(0,0)}*a_{(1,1)} - a_{(1,0)}*a_{(0,1)}$$\n",
        "So if we have $A$ as:\n",
        "$$A = \\begin{bmatrix}7&3\\\\1&9\\end{bmatrix}, |A| = 3$$\n",
        "\n",
        "But you might wonder how about square matrices beyond the shape $(2,2)$? We can approach this problem by using several methods such as co-factor expansion and the minors method. This can be taught in the lecture of the laboratory but we can achieve the strenuous computation of high-dimensional matrices programmatically using Python. We can achieve this by using `np.linalg.det()`."
      ],
      "metadata": {
        "id": "rcPcXr5NINqx"
      }
    },
    {
      "cell_type": "code",
      "source": [
        "A = np.array([\n",
        "    [7,3],\n",
        "    [1,9]\n",
        "])\n",
        "np.linalg.det(A)"
      ],
      "metadata": {
        "id": "8yMLCos_IUiO",
        "colab": {
          "base_uri": "https://localhost:8080/"
        },
        "outputId": "bbfe902d-e4cf-4825-9fb8-a0693fb76520"
      },
      "execution_count": 33,
      "outputs": [
        {
          "output_type": "execute_result",
          "data": {
            "text/plain": [
              "59.999999999999986"
            ]
          },
          "metadata": {},
          "execution_count": 33
        }
      ]
    },
    {
      "cell_type": "code",
      "source": [
        "J = np.array([\n",
        "    [7,3,5],\n",
        "    [1,9,8],\n",
        "    [5,7,1]\n",
        "])\n",
        "np.linalg.det(J)"
      ],
      "metadata": {
        "id": "BkVabmgNIXgU",
        "colab": {
          "base_uri": "https://localhost:8080/"
        },
        "outputId": "e445307d-627c-49ca-94a3-3d5d01922b70"
      },
      "execution_count": 34,
      "outputs": [
        {
          "output_type": "execute_result",
          "data": {
            "text/plain": [
              "-402.0"
            ]
          },
          "metadata": {},
          "execution_count": 34
        }
      ]
    },
    {
      "cell_type": "code",
      "source": [
        "## Now other mathematics classes would require you to solve this by hand, \n",
        "## and that is great for practicing your memorization and coordination skills \n",
        "## but in this class we aim for simplicity and speed so we'll use programming\n",
        "## but it's completely fine if you want to try to solve this one by hand.\n",
        "B = np.array([\n",
        "    [1,3,5,6],\n",
        "    [0,3,1,3],\n",
        "    [3,1,8,2],\n",
        "    [5,2,6,8]\n",
        "])\n",
        "np.linalg.det(B)"
      ],
      "metadata": {
        "id": "QKq487r9I1MV",
        "colab": {
          "base_uri": "https://localhost:8080/"
        },
        "outputId": "a2a87059-3918-4540-9ce8-1b0c131e4600"
      },
      "execution_count": 35,
      "outputs": [
        {
          "output_type": "execute_result",
          "data": {
            "text/plain": [
              "-235.0000000000002"
            ]
          },
          "metadata": {},
          "execution_count": 35
        }
      ]
    },
    {
      "cell_type": "markdown",
      "source": [
        "## Inverse"
      ],
      "metadata": {
        "id": "0J7fmg3FJECo"
      }
    },
    {
      "cell_type": "markdown",
      "source": [
        "The inverse of a matrix is another fundamental operation in matrix algebra. Determining the inverse of a matrix let us determine if its solvability and its characteristic as a system of linear equation — we'll expand on this in the nect module. Another use of the inverse matrix is solving the problem of divisibility between matrices. Although element-wise division exists but dividing the entire concept of matrices does not exists. Inverse matrices provides a related operation that could have the same concept of \"dividing\" matrices.\n",
        "\n",
        "Now to determine the inverse of a matrix we need to perform several steps. So let's say we have a matrix $M$:\n",
        "$$M = \\begin{bmatrix}1&7\\\\-3&5\\end{bmatrix}$$\n",
        "First, we need to get the determinant of $M$.\n",
        "$$|M| = (1)(5)-(-3)(7) = 26$$\n",
        "Next, we need to reform the matrix into the inverse form:\n",
        "$$M^{-1} = \\frac{1}{|M|} \\begin{bmatrix} m_{(1,1)} & -m_{(0,1)} \\\\ -m_{(1,0)} & m_{(0,0)}\\end{bmatrix}$$\n",
        "So that will be:\n",
        "$$M^{-1} = \\frac{1}{26} \\begin{bmatrix} 5 & -7 \\\\ 3 & 1\\end{bmatrix} = \\begin{bmatrix} \\frac{5}{26} & \\frac{-7}{26} \\\\ \\frac{3}{26} & \\frac{1}{26}\\end{bmatrix}$$\n",
        "For higher-dimension matrices you might need to use co-factors, minors, adjugates, and other reduction techinques. To solve this programmatially we can use `np.linalg.inv()`."
      ],
      "metadata": {
        "id": "fZU4uP-WJJFn"
      }
    },
    {
      "cell_type": "code",
      "source": [
        "T = np.array([\n",
        "    [10,-5],\n",
        "    [8, 6]\n",
        "])\n",
        "\n",
        "np.array(T @ np.linalg.inv(T), dtype=int)"
      ],
      "metadata": {
        "id": "_0n9RDdVJMhw",
        "colab": {
          "base_uri": "https://localhost:8080/"
        },
        "outputId": "84e6ec88-55d1-434f-bbdb-c304974cee99"
      },
      "execution_count": 36,
      "outputs": [
        {
          "output_type": "execute_result",
          "data": {
            "text/plain": [
              "array([[1, 0],\n",
              "       [0, 1]])"
            ]
          },
          "metadata": {},
          "execution_count": 36
        }
      ]
    },
    {
      "cell_type": "code",
      "source": [
        "T = np.array([\n",
        "    [10,-5],\n",
        "    [8, 6]\n",
        "])\n",
        "J= np.linalg.inv(T)\n",
        "J"
      ],
      "metadata": {
        "id": "vCBljTWhJSkF",
        "colab": {
          "base_uri": "https://localhost:8080/"
        },
        "outputId": "fd4aeffe-57a4-46fc-9998-0b13b26e996e"
      },
      "execution_count": 37,
      "outputs": [
        {
          "output_type": "execute_result",
          "data": {
            "text/plain": [
              "array([[ 0.06,  0.05],\n",
              "       [-0.08,  0.1 ]])"
            ]
          },
          "metadata": {},
          "execution_count": 37
        }
      ]
    },
    {
      "cell_type": "code",
      "source": [
        "J @ T"
      ],
      "metadata": {
        "id": "m0bKqnNpJoqF",
        "colab": {
          "base_uri": "https://localhost:8080/"
        },
        "outputId": "e936a483-ffbc-42aa-fe98-698f66607fb6"
      },
      "execution_count": 38,
      "outputs": [
        {
          "output_type": "execute_result",
          "data": {
            "text/plain": [
              "array([[ 1.00000000e+00,  8.32667268e-17],\n",
              "       [-1.11022302e-16,  1.00000000e+00]])"
            ]
          },
          "metadata": {},
          "execution_count": 38
        }
      ]
    },
    {
      "cell_type": "code",
      "source": [
        "## And now let's test your skills in solving a matrix with high dimensions:\n",
        "N = np.array([\n",
        "    [31,9,45,3,1,7,8],\n",
        "    [1,98,1,5,12,1,5],\n",
        "    [31,53,5,3,2,1,4],\n",
        "    [3,5,0,8,6,12,5],\n",
        "    [6,3,2,8,13,46,11],\n",
        "    [95,-15,12,40,60,16,-30],\n",
        "    [-2,-5,1,2,1,20,12],\n",
        "])\n",
        "N_inv = np.linalg.inv(N)\n",
        "np.array(N @ N_inv,dtype=int)"
      ],
      "metadata": {
        "id": "S5ZQC_YQJq66",
        "colab": {
          "base_uri": "https://localhost:8080/"
        },
        "outputId": "ae945d12-624a-44e0-8533-7bd04eb7dd75"
      },
      "execution_count": 39,
      "outputs": [
        {
          "output_type": "execute_result",
          "data": {
            "text/plain": [
              "array([[0, 0, 0, 0, 0, 0, 0],\n",
              "       [0, 0, 0, 0, 0, 0, 0],\n",
              "       [0, 0, 0, 0, 0, 0, 0],\n",
              "       [0, 0, 0, 1, 0, 0, 0],\n",
              "       [0, 0, 0, 0, 1, 0, 0],\n",
              "       [0, 0, 0, 0, 0, 1, 0],\n",
              "       [0, 0, 0, 0, 0, 0, 0]])"
            ]
          },
          "metadata": {},
          "execution_count": 39
        }
      ]
    },
    {
      "cell_type": "markdown",
      "source": [
        "To validate the wether if the matric that you have solved is really the inverse, we follow this dot product property for a matrix $M$:\n",
        "$$M\\cdot M^{-1} = I$$"
      ],
      "metadata": {
        "id": "8samPKn6JtNc"
      }
    },
    {
      "cell_type": "code",
      "source": [
        "squad = np.array([\n",
        "    [1.25, 1.50, 2.50],\n",
        "    [2.7, 1.70, 2.90],\n",
        "    [2.30, 1.30, 1.75]\n",
        "])\n",
        "weights = np.array([\n",
        "    [0.2, 0.2, 0.6]\n",
        "])\n",
        "p_grade = squad @ weights.T\n",
        "p_grade\n"
      ],
      "metadata": {
        "id": "bf2hmPF4JwSm",
        "colab": {
          "base_uri": "https://localhost:8080/"
        },
        "outputId": "7933260a-ad62-4e8f-9642-b6fdab1fc457"
      },
      "execution_count": 40,
      "outputs": [
        {
          "output_type": "execute_result",
          "data": {
            "text/plain": [
              "array([[2.05],\n",
              "       [2.62],\n",
              "       [1.77]])"
            ]
          },
          "metadata": {},
          "execution_count": 40
        }
      ]
    },
    {
      "cell_type": "markdown",
      "source": [
        "##ACTIVITY"
      ],
      "metadata": {
        "id": "X91bLnnBJzU2"
      }
    },
    {
      "cell_type": "markdown",
      "source": [
        "###Task 1\n",
        "Prove and implement the remaining 6 matrix multiplication properties. You may create your own\n",
        "matrices in which their shapes should not be lower than . In your methodology, create individual\n",
        "flowcharts for each property and discuss the property you would then present your proofs or\n",
        "validity of your implementation in the results section by comparing your result to present functions\n",
        "from NumPy."
      ],
      "metadata": {
        "id": "T81nTQeWJ2aR"
      }
    },
    {
      "cell_type": "code",
      "source": [
        "A = np.array([\n",
        "    [2, 4, 6],\n",
        "    [40, 80, 120],\n",
        "    [-5, 10, -15]          \n",
        "])\n",
        "\n",
        "M = np.array([\n",
        "    [10, 20, 30],\n",
        "    [40, 41, 42],\n",
        "    [90, -80, 70]          \n",
        "])\n",
        "\n",
        "P = np.array([\n",
        "    [50, 100, 150],\n",
        "    [7, -14, -21],\n",
        "    [30, 3, -30]          \n",
        "])"
      ],
      "metadata": {
        "id": "w8eXuyfVLbz8"
      },
      "execution_count": 41,
      "outputs": []
    },
    {
      "cell_type": "markdown",
      "source": [
        "###First Property"
      ],
      "metadata": {
        "id": "OsAC0X7MhYAS"
      }
    },
    {
      "cell_type": "code",
      "source": [
        "A @ M"
      ],
      "metadata": {
        "colab": {
          "base_uri": "https://localhost:8080/"
        },
        "id": "2mTWnmC3PSSc",
        "outputId": "08f08909-52fb-4255-9430-925a359daf97"
      },
      "execution_count": 42,
      "outputs": [
        {
          "output_type": "execute_result",
          "data": {
            "text/plain": [
              "array([[  720,  -276,   648],\n",
              "       [14400, -5520, 12960],\n",
              "       [-1000,  1510,  -780]])"
            ]
          },
          "metadata": {},
          "execution_count": 42
        }
      ]
    },
    {
      "cell_type": "code",
      "source": [
        "M @ P"
      ],
      "metadata": {
        "colab": {
          "base_uri": "https://localhost:8080/"
        },
        "id": "LiKxmOLKPXqK",
        "outputId": "401a2210-120f-42ec-931e-b0ff3c6e3ec3"
      },
      "execution_count": 43,
      "outputs": [
        {
          "output_type": "execute_result",
          "data": {
            "text/plain": [
              "array([[ 1540,   810,   180],\n",
              "       [ 3547,  3552,  3879],\n",
              "       [ 6040, 10330, 13080]])"
            ]
          },
          "metadata": {},
          "execution_count": 43
        }
      ]
    },
    {
      "cell_type": "code",
      "source": [
        "np.array_equiv(A @ M, M @ P)"
      ],
      "metadata": {
        "colab": {
          "base_uri": "https://localhost:8080/"
        },
        "id": "k9-I0OJYPb2N",
        "outputId": "2d2b6b04-c076-4e8a-e752-7cb2eebd2958"
      },
      "execution_count": 44,
      "outputs": [
        {
          "output_type": "execute_result",
          "data": {
            "text/plain": [
              "False"
            ]
          },
          "metadata": {},
          "execution_count": 44
        }
      ]
    },
    {
      "cell_type": "markdown",
      "source": [
        "###Second Property"
      ],
      "metadata": {
        "id": "KC5xmLRvhdXd"
      }
    },
    {
      "cell_type": "code",
      "source": [
        "A @ (M @ P)"
      ],
      "metadata": {
        "colab": {
          "base_uri": "https://localhost:8080/"
        },
        "id": "ptrdv4WnPliG",
        "outputId": "a663a9cb-20be-4478-9d03-955e8afeb4e6"
      },
      "execution_count": 45,
      "outputs": [
        {
          "output_type": "execute_result",
          "data": {
            "text/plain": [
              "array([[  53508,   77808,   94356],\n",
              "       [1070160, 1556160, 1887120],\n",
              "       [ -62830, -123480, -158310]])"
            ]
          },
          "metadata": {},
          "execution_count": 45
        }
      ]
    },
    {
      "cell_type": "code",
      "source": [
        "(A @ M) @ P"
      ],
      "metadata": {
        "colab": {
          "base_uri": "https://localhost:8080/"
        },
        "id": "QEGtj1IEPnYH",
        "outputId": "d06557e2-ecff-491f-9bf5-66c8806fce59"
      },
      "execution_count": 46,
      "outputs": [
        {
          "output_type": "execute_result",
          "data": {
            "text/plain": [
              "array([[  53508,   77808,   94356],\n",
              "       [1070160, 1556160, 1887120],\n",
              "       [ -62830, -123480, -158310]])"
            ]
          },
          "metadata": {},
          "execution_count": 46
        }
      ]
    },
    {
      "cell_type": "code",
      "source": [
        "np.array_equiv(A @( M @P  ),(A @ M)@P)"
      ],
      "metadata": {
        "colab": {
          "base_uri": "https://localhost:8080/"
        },
        "id": "9qFWwit1PpY6",
        "outputId": "d7f0ff5d-0c8a-4d7b-af84-f5f92eb15eb5"
      },
      "execution_count": 47,
      "outputs": [
        {
          "output_type": "execute_result",
          "data": {
            "text/plain": [
              "True"
            ]
          },
          "metadata": {},
          "execution_count": 47
        }
      ]
    },
    {
      "cell_type": "markdown",
      "source": [
        "###Third Property"
      ],
      "metadata": {
        "id": "IOYjE7uxhlEV"
      }
    },
    {
      "cell_type": "code",
      "source": [
        "A @(M + P)"
      ],
      "metadata": {
        "colab": {
          "base_uri": "https://localhost:8080/"
        },
        "id": "apC58AxMPrLV",
        "outputId": "fe307f4a-272d-4c5c-dc42-0af0bec55ea2"
      },
      "execution_count": 48,
      "outputs": [
        {
          "output_type": "execute_result",
          "data": {
            "text/plain": [
              "array([[ 1028,  -114,   684],\n",
              "       [20560, -2280, 13680],\n",
              "       [-1630,   825, -1290]])"
            ]
          },
          "metadata": {},
          "execution_count": 48
        }
      ]
    },
    {
      "cell_type": "code",
      "source": [
        "A @ M  + A @ P"
      ],
      "metadata": {
        "colab": {
          "base_uri": "https://localhost:8080/"
        },
        "id": "oI8rKji2Pshx",
        "outputId": "d8883b5b-0ee0-40ee-c28d-052d3a4df340"
      },
      "execution_count": 49,
      "outputs": [
        {
          "output_type": "execute_result",
          "data": {
            "text/plain": [
              "array([[ 1028,  -114,   684],\n",
              "       [20560, -2280, 13680],\n",
              "       [-1630,   825, -1290]])"
            ]
          },
          "metadata": {},
          "execution_count": 49
        }
      ]
    },
    {
      "cell_type": "code",
      "source": [
        "np.array_equiv(A@(M+P),A@M + A@P)"
      ],
      "metadata": {
        "colab": {
          "base_uri": "https://localhost:8080/"
        },
        "id": "zsRj6cCfPujB",
        "outputId": "cb3da2c2-53a8-4432-cca5-59dcd78789e7"
      },
      "execution_count": 50,
      "outputs": [
        {
          "output_type": "execute_result",
          "data": {
            "text/plain": [
              "True"
            ]
          },
          "metadata": {},
          "execution_count": 50
        }
      ]
    },
    {
      "cell_type": "markdown",
      "source": [
        "###Fourth Property"
      ],
      "metadata": {
        "id": "YsvtEqCBhpY_"
      }
    },
    {
      "cell_type": "code",
      "source": [
        "(M+P)@A"
      ],
      "metadata": {
        "colab": {
          "base_uri": "https://localhost:8080/"
        },
        "id": "h4EIFGzpPw4L",
        "outputId": "87f2ca5b-b080-4748-a279-bc2755e5a737"
      },
      "execution_count": 51,
      "outputs": [
        {
          "output_type": "execute_result",
          "data": {
            "text/plain": [
              "array([[ 4020, 11640, 12060],\n",
              "       [ 1069,  2558,  3207],\n",
              "       [-3040, -5280, -9120]])"
            ]
          },
          "metadata": {},
          "execution_count": 51
        }
      ]
    },
    {
      "cell_type": "code",
      "source": [
        "M@A + P@A"
      ],
      "metadata": {
        "colab": {
          "base_uri": "https://localhost:8080/"
        },
        "id": "WwStEn7ZPykK",
        "outputId": "c6f5276a-2321-49ff-85e6-53fbc92519bc"
      },
      "execution_count": 52,
      "outputs": [
        {
          "output_type": "execute_result",
          "data": {
            "text/plain": [
              "array([[ 4020, 11640, 12060],\n",
              "       [ 1069,  2558,  3207],\n",
              "       [-3040, -5280, -9120]])"
            ]
          },
          "metadata": {},
          "execution_count": 52
        }
      ]
    },
    {
      "cell_type": "code",
      "source": [
        "np.array_equiv((M+P)@A, M@A +P@A)"
      ],
      "metadata": {
        "colab": {
          "base_uri": "https://localhost:8080/"
        },
        "id": "IdP2EUJ9P0Ak",
        "outputId": "fa24e293-e5da-46bc-f58a-61f2fc1cdc55"
      },
      "execution_count": 53,
      "outputs": [
        {
          "output_type": "execute_result",
          "data": {
            "text/plain": [
              "True"
            ]
          },
          "metadata": {},
          "execution_count": 53
        }
      ]
    },
    {
      "cell_type": "markdown",
      "source": [
        "###Fifth Property"
      ],
      "metadata": {
        "id": "2HonHZguhy_K"
      }
    },
    {
      "cell_type": "code",
      "source": [
        "A@np.eye(3)"
      ],
      "metadata": {
        "colab": {
          "base_uri": "https://localhost:8080/"
        },
        "id": "CNj8lBukP1uw",
        "outputId": "289e4341-666d-45c7-ce3e-b3e524081919"
      },
      "execution_count": 54,
      "outputs": [
        {
          "output_type": "execute_result",
          "data": {
            "text/plain": [
              "array([[  2.,   4.,   6.],\n",
              "       [ 40.,  80., 120.],\n",
              "       [ -5.,  10., -15.]])"
            ]
          },
          "metadata": {},
          "execution_count": 54
        }
      ]
    },
    {
      "cell_type": "code",
      "source": [
        "np.array_equiv(A, A@np.eye(3))"
      ],
      "metadata": {
        "colab": {
          "base_uri": "https://localhost:8080/"
        },
        "id": "WEPTiWrCP3iu",
        "outputId": "36732ec5-ceb1-418c-8504-926071364ca3"
      },
      "execution_count": 55,
      "outputs": [
        {
          "output_type": "execute_result",
          "data": {
            "text/plain": [
              "True"
            ]
          },
          "metadata": {},
          "execution_count": 55
        }
      ]
    },
    {
      "cell_type": "markdown",
      "source": [
        "###Sixth Property"
      ],
      "metadata": {
        "id": "ZNLgCXLMh_52"
      }
    },
    {
      "cell_type": "code",
      "source": [
        "A@np.zeros((3,3))"
      ],
      "metadata": {
        "colab": {
          "base_uri": "https://localhost:8080/"
        },
        "id": "o7TlGKtfP5BL",
        "outputId": "f602262c-75af-4969-bb5b-7a2eb7925525"
      },
      "execution_count": 56,
      "outputs": [
        {
          "output_type": "execute_result",
          "data": {
            "text/plain": [
              "array([[0., 0., 0.],\n",
              "       [0., 0., 0.],\n",
              "       [0., 0., 0.]])"
            ]
          },
          "metadata": {},
          "execution_count": 56
        }
      ]
    },
    {
      "cell_type": "code",
      "source": [
        "np.array_equiv(A@np.zeros((3,3)),np.zeros((3,3)))"
      ],
      "metadata": {
        "colab": {
          "base_uri": "https://localhost:8080/"
        },
        "id": "VAgsysQNP7J8",
        "outputId": "59fb1fd0-fb3e-4e67-9874-26317edaaec3"
      },
      "execution_count": 57,
      "outputs": [
        {
          "output_type": "execute_result",
          "data": {
            "text/plain": [
              "True"
            ]
          },
          "metadata": {},
          "execution_count": 57
        }
      ]
    },
    {
      "cell_type": "markdown",
      "source": [
        "##Add-Ons"
      ],
      "metadata": {
        "id": "Du-Opj1ZiKr-"
      }
    },
    {
      "cell_type": "code",
      "source": [
        "A.dot(np.zeros(A.shape))"
      ],
      "metadata": {
        "colab": {
          "base_uri": "https://localhost:8080/"
        },
        "id": "T7QnA-ScP9Cs",
        "outputId": "575e0fa2-280a-4156-d007-b7238eb4fc91"
      },
      "execution_count": 58,
      "outputs": [
        {
          "output_type": "execute_result",
          "data": {
            "text/plain": [
              "array([[0., 0., 0.],\n",
              "       [0., 0., 0.],\n",
              "       [0., 0., 0.]])"
            ]
          },
          "metadata": {},
          "execution_count": 58
        }
      ]
    },
    {
      "cell_type": "code",
      "source": [
        "z_mat = np.zeros (A.shape)\n",
        "z_mat"
      ],
      "metadata": {
        "colab": {
          "base_uri": "https://localhost:8080/"
        },
        "id": "dNWPKFZAP-_L",
        "outputId": "cd20ec3a-2b8f-4ae4-9441-69f50e2fae50"
      },
      "execution_count": 59,
      "outputs": [
        {
          "output_type": "execute_result",
          "data": {
            "text/plain": [
              "array([[0., 0., 0.],\n",
              "       [0., 0., 0.],\n",
              "       [0., 0., 0.]])"
            ]
          },
          "metadata": {},
          "execution_count": 59
        }
      ]
    },
    {
      "cell_type": "code",
      "source": [
        "i_dot_z = A.dot(np.zeros(A.shape))\n",
        "i_dot_z"
      ],
      "metadata": {
        "colab": {
          "base_uri": "https://localhost:8080/"
        },
        "id": "mvC00QasQAyq",
        "outputId": "f3e2f89f-c86c-495c-bbc9-f58005634e8e"
      },
      "execution_count": 60,
      "outputs": [
        {
          "output_type": "execute_result",
          "data": {
            "text/plain": [
              "array([[0., 0., 0.],\n",
              "       [0., 0., 0.],\n",
              "       [0., 0., 0.]])"
            ]
          },
          "metadata": {},
          "execution_count": 60
        }
      ]
    },
    {
      "cell_type": "code",
      "source": [
        "np.array_equal(i_dot_z,z_mat)"
      ],
      "metadata": {
        "colab": {
          "base_uri": "https://localhost:8080/"
        },
        "id": "9qcSDvtGQCYe",
        "outputId": "9a2cfdd2-92e6-40dc-f3e4-8dad9632d646"
      },
      "execution_count": 61,
      "outputs": [
        {
          "output_type": "execute_result",
          "data": {
            "text/plain": [
              "True"
            ]
          },
          "metadata": {},
          "execution_count": 61
        }
      ]
    },
    {
      "cell_type": "code",
      "source": [
        "null_mat = np.empty(A.shape, dtype = float)\n",
        "null = np.array(null_mat,dtype = float)\n",
        "print(null)\n",
        "np.allclose(i_dot_z , null)"
      ],
      "metadata": {
        "colab": {
          "base_uri": "https://localhost:8080/"
        },
        "id": "t7TcyR71QEFm",
        "outputId": "5c931ae4-bb71-4914-86ee-3930ecb6d701"
      },
      "execution_count": 62,
      "outputs": [
        {
          "output_type": "stream",
          "name": "stdout",
          "text": [
            "[[0. 0. 0.]\n",
            " [0. 0. 0.]\n",
            " [0. 0. 0.]]\n"
          ]
        },
        {
          "output_type": "execute_result",
          "data": {
            "text/plain": [
              "True"
            ]
          },
          "metadata": {},
          "execution_count": 62
        }
      ]
    }
  ]
}