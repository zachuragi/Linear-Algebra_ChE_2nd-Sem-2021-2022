{
  "nbformat": 4,
  "nbformat_minor": 0,
  "metadata": {
    "colab": {
      "name": "Assignment 3_Lacuesta_Ituriaga",
      "provenance": [],
      "collapsed_sections": [],
      "include_colab_link": true
    },
    "kernelspec": {
      "name": "python3",
      "display_name": "Python 3"
    },
    "language_info": {
      "name": "python"
    }
  },
  "cells": [
    {
      "cell_type": "markdown",
      "metadata": {
        "id": "view-in-github",
        "colab_type": "text"
      },
      "source": [
        "<a href=\"https://colab.research.google.com/github/zachuragi/Linear-Algebra_ChE_2nd-Sem-2021-2022/blob/main/Assignment_3_Lacuesta_Ituriaga.ipynb\" target=\"_parent\"><img src=\"https://colab.research.google.com/assets/colab-badge.svg\" alt=\"Open In Colab\"/></a>"
      ]
    },
    {
      "cell_type": "markdown",
      "source": [
        "#TASK 1\n",
        "Create a function named mat_desc() that througouhly describes a matrix, it should:\n",
        "\n",
        "\n",
        "*   Displays the shape, size, and rank of the matrix.\n",
        "*   Displays whether the matrix is square or non-square.\n",
        "*   Displays whether the matrix is an empty matrix.\n",
        "*   Displays if the matrix is an identity, ones, or zeros matrix\n",
        "\n",
        "Use 5 sample matrices in which their shapes are not lower than . In your methodology, create a flowchart discuss the functions and methods you have done. Present your results in the results section showing the description of each matrix you have declared."
      ],
      "metadata": {
        "id": "zx_okmgu3DrZ"
      }
    },
    {
      "cell_type": "code",
      "source": [
        "import numpy as np\n",
        "import matplotlib.pyplot as plt\n",
        "import scipy.linalg as la\n",
        "%matplotlib inline"
      ],
      "metadata": {
        "id": "nzDjJNdtTaV6"
      },
      "execution_count": null,
      "outputs": []
    },
    {
      "cell_type": "code",
      "source": [
        "# mat_desc function \n",
        "\n",
        "def mat_desc(mat):\n",
        "  sq = False                                                  # initial value, to be replaced depending on conditions\n",
        "  mat = np.array(mat)\n",
        "\n",
        "  print(mat)\n",
        "  print('\\n' + 'Shape:', mat.shape)\n",
        "  print('Size:', mat.size)\n",
        "  print('Rank:', np.linalg.matrix_rank(mat))\n",
        "\n",
        "  if(mat.shape[0] == mat.shape[1]):\n",
        "    sq = True\n",
        "    print('Square Matrix')\n",
        "  else: \n",
        "    print('Non-Square Matrix')\n",
        "    \n",
        "  if(mat.shape[0] == 0 and mat.shape[1] == 0):\n",
        "    print('Empty Matrix')\n",
        "  else:\n",
        "    print('Matrix is not empty')\n",
        "\n",
        "  iden = np.identity(mat.shape[0])\n",
        "  one = np.ones(mat.shape[0], dtype=int)\n",
        "\n",
        "  if sq == True :                                           # executed only if the matrix is square \n",
        "    if  sq and (iden== mat).all():\n",
        "      print('Identity Matrix')\n",
        "    elif (one == mat).all() :\n",
        "      print('Ones matrix')\n",
        "    elif (one != mat).all():\n",
        "      print('Zeros Matrix')\n",
        "    else:\n",
        "      print()\n",
        "  \n",
        "  one_not_square = np.ones((mat.shape[0], mat.shape[1]))    # basis for either ones or zeros matrices that are non-square\n",
        "  zeros_not_square = np.zeros((mat.shape[0], mat.shape[1]))\n",
        "\n",
        "  if sq == False :\n",
        "    if (one_not_square == mat).all() :\n",
        "      print('Ones matrix')\n",
        "    elif (zeros_not_square != mat).all():\n",
        "      print('Zeros Matrix')\n",
        "    else:\n",
        "      print()"
      ],
      "metadata": {
        "id": "ziLh-R901cpN"
      },
      "execution_count": null,
      "outputs": []
    },
    {
      "cell_type": "code",
      "source": [
        "mat_desc([\n",
        "          [0, 0, 0, 0],\n",
        "          [0, 0, 0, 0],\n",
        "          [0, 0, 0, 0]\n",
        "])"
      ],
      "metadata": {
        "colab": {
          "base_uri": "https://localhost:8080/"
        },
        "id": "aPoC5g5V1eu_",
        "outputId": "741c2c2f-fc33-4cf6-abd7-69f3adffb2b5"
      },
      "execution_count": null,
      "outputs": [
        {
          "output_type": "stream",
          "name": "stdout",
          "text": [
            "[[0 0 0 0]\n",
            " [0 0 0 0]\n",
            " [0 0 0 0]]\n",
            "\n",
            "Shape: (3, 4)\n",
            "Size: 12\n",
            "Rank: 0\n",
            "Non-Square Matrix\n",
            "Matrix is not empty\n",
            "\n"
          ]
        }
      ]
    },
    {
      "cell_type": "code",
      "source": [
        "mat_desc([\n",
        "          [1, 1, 1, 1],\n",
        "          [1, 1, 1, 1],\n",
        "          [1, 1, 1, 1],\n",
        "          [1, 1, 1, 1]\n",
        "])"
      ],
      "metadata": {
        "colab": {
          "base_uri": "https://localhost:8080/"
        },
        "id": "5Dl57x7r1_1Z",
        "outputId": "9c4a0753-1c98-4241-e690-b78fd93d1d93"
      },
      "execution_count": null,
      "outputs": [
        {
          "output_type": "stream",
          "name": "stdout",
          "text": [
            "[[1 1 1 1]\n",
            " [1 1 1 1]\n",
            " [1 1 1 1]\n",
            " [1 1 1 1]]\n",
            "\n",
            "Shape: (4, 4)\n",
            "Size: 16\n",
            "Rank: 1\n",
            "Square Matrix\n",
            "Matrix is not empty\n",
            "Ones matrix\n"
          ]
        }
      ]
    },
    {
      "cell_type": "code",
      "source": [
        "mat_desc([\n",
        "          [1, 0, 0, 0],\n",
        "          [0, 1, 0, 0],\n",
        "          [0, 0, 1, 0],\n",
        "          [0, 0, 0, 1]\n",
        "])"
      ],
      "metadata": {
        "colab": {
          "base_uri": "https://localhost:8080/"
        },
        "id": "l9thHN5U2L_Z",
        "outputId": "4eb6cb6f-d5b7-4e0a-dc0f-f3becba6b342"
      },
      "execution_count": null,
      "outputs": [
        {
          "output_type": "stream",
          "name": "stdout",
          "text": [
            "[[1 0 0 0]\n",
            " [0 1 0 0]\n",
            " [0 0 1 0]\n",
            " [0 0 0 1]]\n",
            "\n",
            "Shape: (4, 4)\n",
            "Size: 16\n",
            "Rank: 4\n",
            "Square Matrix\n",
            "Matrix is not empty\n",
            "Identity Matrix\n"
          ]
        }
      ]
    },
    {
      "cell_type": "code",
      "source": [
        "mat_desc([\n",
        "          [0, 0, 0, 0, 0],\n",
        "          [0, 0, 0, 0, 0],\n",
        "          [0, 0, 0, 0, 0],\n",
        "          [0, 0, 0, 0, 0],\n",
        "          [0, 0, 0, 0, 0]\n",
        "])"
      ],
      "metadata": {
        "colab": {
          "base_uri": "https://localhost:8080/"
        },
        "id": "XABwMk2-2WYT",
        "outputId": "2cb7eea0-2826-4ab2-bed7-464110b79f0a"
      },
      "execution_count": null,
      "outputs": [
        {
          "output_type": "stream",
          "name": "stdout",
          "text": [
            "[[0 0 0 0 0]\n",
            " [0 0 0 0 0]\n",
            " [0 0 0 0 0]\n",
            " [0 0 0 0 0]\n",
            " [0 0 0 0 0]]\n",
            "\n",
            "Shape: (5, 5)\n",
            "Size: 25\n",
            "Rank: 0\n",
            "Square Matrix\n",
            "Matrix is not empty\n",
            "Zeros Matrix\n"
          ]
        }
      ]
    },
    {
      "cell_type": "code",
      "source": [
        "mat_desc([\n",
        "          [2, 4, 6, 8],\n",
        "          [0, 0, 0, 0],\n",
        "          [0, 0, 0, 0],\n",
        "          [0, 0, 0, 0],\n",
        "          [0, 0, 0, 0]\n",
        "])"
      ],
      "metadata": {
        "colab": {
          "base_uri": "https://localhost:8080/"
        },
        "id": "4xAlwTMu2sTh",
        "outputId": "a220ac7b-ac80-4fc5-9bd7-22d013165265"
      },
      "execution_count": null,
      "outputs": [
        {
          "output_type": "stream",
          "name": "stdout",
          "text": [
            "[[2 4 6 8]\n",
            " [0 0 0 0]\n",
            " [0 0 0 0]\n",
            " [0 0 0 0]\n",
            " [0 0 0 0]]\n",
            "\n",
            "Shape: (5, 4)\n",
            "Size: 20\n",
            "Rank: 1\n",
            "Non-Square Matrix\n",
            "Matrix is not empty\n",
            "\n"
          ]
        }
      ]
    },
    {
      "cell_type": "markdown",
      "source": [
        "#TASK 2\n",
        "Create a function named mat_operations() that takes in two matrices a input parameters it should:\n",
        "\n",
        "*   Determines if the matrices are viable for operation and returns your own error message if they are not viable.\n",
        "*   Returns the sum of the matrices.\n",
        "*   Returns the difference of the matrices.\n",
        "*   Returns the element-wise multiplication of the matrices.\n",
        "*   Returns the element-wise division of the matrices.\n",
        "\n",
        "Use 5 sample matrices in which their shapes are not lower than . In your methodology, create a flowchart discuss the functions and methods you have done. Present your results in the results section showing the description of each matrix you have declared."
      ],
      "metadata": {
        "id": "d8TnMxZU3X3U"
      }
    },
    {
      "cell_type": "code",
      "source": [
        "import numpy as np\n",
        "import matplotlib.pyplot as plt\n",
        "import scipy.linalg as la\n",
        "%matplotlib inline"
      ],
      "metadata": {
        "id": "UBhJOCus3wVc"
      },
      "execution_count": null,
      "outputs": []
    },
    {
      "cell_type": "code",
      "source": [
        "def mat_operations(mat1, mat2):\n",
        "    mat1 = np.array(mat1)\n",
        "    mat2 = np.array(mat2)\n",
        "    print('Matrix 1:', mat1)\n",
        "    print('Matrix 2:', mat2)\n",
        "    if(mat1.shape != mat2.shape):\n",
        "        print('Shape of Both Matrices are Not the Same. Sorry we cannot perform the operations.')\n",
        "        return\n",
        "    print('Sum of the Given Matrices:')\n",
        "    msum = mat1 + mat2\n",
        "    print(msum)\n",
        "    print('Difference of the Given Matrices:')\n",
        "    mdiff = mat1 - mat2\n",
        "    print(mdiff)\n",
        "    print('Element-Wise Multiplication of the Given Matrices:')\n",
        "    mmul = np.multiply(mat1, mat2)\n",
        "    print(mmul)\n",
        "    print('Element-Wise Division of the Given Matrices:')\n",
        "    mmul = np.divide(mat1, mat2)\n",
        "    print(mmul)"
      ],
      "metadata": {
        "id": "YCgXSKzP33bD"
      },
      "execution_count": null,
      "outputs": []
    },
    {
      "cell_type": "code",
      "source": [
        "mat_operations([[2, 4, 6], [1, 2, 3], [3, 2, 1]], \n",
        "               [[0, 1, 0], [1, 1, 1], [0, 0, 0]])"
      ],
      "metadata": {
        "colab": {
          "base_uri": "https://localhost:8080/"
        },
        "id": "A7KP3RJq5VGH",
        "outputId": "a4d08b58-ddd1-4efe-ea8e-01faa291b05c"
      },
      "execution_count": null,
      "outputs": [
        {
          "output_type": "stream",
          "name": "stdout",
          "text": [
            "Matrix 1: [[2 4 6]\n",
            " [1 2 3]\n",
            " [3 2 1]]\n",
            "Matrix 2: [[0 1 0]\n",
            " [1 1 1]\n",
            " [0 0 0]]\n",
            "Sum of the Given Matrices:\n",
            "[[2 5 6]\n",
            " [2 3 4]\n",
            " [3 2 1]]\n",
            "Difference of the Given Matrices:\n",
            "[[2 3 6]\n",
            " [0 1 2]\n",
            " [3 2 1]]\n",
            "Element-Wise Multiplication of the Given Matrices:\n",
            "[[0 4 0]\n",
            " [1 2 3]\n",
            " [0 0 0]]\n",
            "Element-Wise Division of the Given Matrices:\n",
            "[[inf  4. inf]\n",
            " [ 1.  2.  3.]\n",
            " [inf inf inf]]\n"
          ]
        },
        {
          "output_type": "stream",
          "name": "stderr",
          "text": [
            "/usr/local/lib/python3.7/dist-packages/ipykernel_launcher.py:19: RuntimeWarning: divide by zero encountered in true_divide\n"
          ]
        }
      ]
    },
    {
      "cell_type": "code",
      "source": [
        "mat_operations([[2, 0, 0], [0, 2, 0], [0, 0, 2]],\n",
        "               [[1, 2, 4], [2, 3, 4], [4, 5, 6]])"
      ],
      "metadata": {
        "colab": {
          "base_uri": "https://localhost:8080/"
        },
        "id": "paD58s6P6QsX",
        "outputId": "7a031913-b587-42ba-c173-ca427bd255ef"
      },
      "execution_count": null,
      "outputs": [
        {
          "output_type": "stream",
          "name": "stdout",
          "text": [
            "Matrix 1: [[2 0 0]\n",
            " [0 2 0]\n",
            " [0 0 2]]\n",
            "Matrix 2: [[1 2 4]\n",
            " [2 3 4]\n",
            " [4 5 6]]\n",
            "Sum of the Given Matrices:\n",
            "[[3 2 4]\n",
            " [2 5 4]\n",
            " [4 5 8]]\n",
            "Difference of the Given Matrices:\n",
            "[[ 1 -2 -4]\n",
            " [-2 -1 -4]\n",
            " [-4 -5 -4]]\n",
            "Element-Wise Multiplication of the Given Matrices:\n",
            "[[ 2  0  0]\n",
            " [ 0  6  0]\n",
            " [ 0  0 12]]\n",
            "Element-Wise Division of the Given Matrices:\n",
            "[[2.         0.         0.        ]\n",
            " [0.         0.66666667 0.        ]\n",
            " [0.         0.         0.33333333]]\n"
          ]
        }
      ]
    },
    {
      "cell_type": "code",
      "source": [
        "mat_operations([[1, 2, 3], [4, 5, 6], [7, 8, 9]],\n",
        "               [[-1, -2, -3], [-4, -5, -6], [-6, -8, -9]])"
      ],
      "metadata": {
        "colab": {
          "base_uri": "https://localhost:8080/"
        },
        "id": "uDNxI6M-7lkh",
        "outputId": "85ed1d6f-e579-40a3-cec9-373f88547623"
      },
      "execution_count": null,
      "outputs": [
        {
          "output_type": "stream",
          "name": "stdout",
          "text": [
            "Matrix 1: [[1 2 3]\n",
            " [4 5 6]\n",
            " [7 8 9]]\n",
            "Matrix 2: [[-1 -2 -3]\n",
            " [-4 -5 -6]\n",
            " [-6 -8 -9]]\n",
            "Sum of the Given Matrices:\n",
            "[[0 0 0]\n",
            " [0 0 0]\n",
            " [1 0 0]]\n",
            "Difference of the Given Matrices:\n",
            "[[ 2  4  6]\n",
            " [ 8 10 12]\n",
            " [13 16 18]]\n",
            "Element-Wise Multiplication of the Given Matrices:\n",
            "[[ -1  -4  -9]\n",
            " [-16 -25 -36]\n",
            " [-42 -64 -81]]\n",
            "Element-Wise Division of the Given Matrices:\n",
            "[[-1.         -1.         -1.        ]\n",
            " [-1.         -1.         -1.        ]\n",
            " [-1.16666667 -1.         -1.        ]]\n"
          ]
        }
      ]
    },
    {
      "cell_type": "code",
      "source": [
        "mat_operations([[1, 1, 1], [3, 3, 3], [5, 5, 5]],\n",
        "               [[0, 0, 0], [2, 2, 2], [4, 4, 4]])"
      ],
      "metadata": {
        "colab": {
          "base_uri": "https://localhost:8080/"
        },
        "id": "1MrCmbgk8O1e",
        "outputId": "e6495e60-e31d-43f7-e4ca-c02ed019409e"
      },
      "execution_count": null,
      "outputs": [
        {
          "output_type": "stream",
          "name": "stdout",
          "text": [
            "Matrix 1: [[1 1 1]\n",
            " [3 3 3]\n",
            " [5 5 5]]\n",
            "Matrix 2: [[0 0 0]\n",
            " [2 2 2]\n",
            " [4 4 4]]\n",
            "Sum of the Given Matrices:\n",
            "[[1 1 1]\n",
            " [5 5 5]\n",
            " [9 9 9]]\n",
            "Difference of the Given Matrices:\n",
            "[[1 1 1]\n",
            " [1 1 1]\n",
            " [1 1 1]]\n",
            "Element-Wise Multiplication of the Given Matrices:\n",
            "[[ 0  0  0]\n",
            " [ 6  6  6]\n",
            " [20 20 20]]\n",
            "Element-Wise Division of the Given Matrices:\n",
            "[[ inf  inf  inf]\n",
            " [1.5  1.5  1.5 ]\n",
            " [1.25 1.25 1.25]]\n"
          ]
        },
        {
          "output_type": "stream",
          "name": "stderr",
          "text": [
            "/usr/local/lib/python3.7/dist-packages/ipykernel_launcher.py:19: RuntimeWarning: divide by zero encountered in true_divide\n"
          ]
        }
      ]
    },
    {
      "cell_type": "code",
      "source": [
        "mat_operations([[0, 0, 0], [0, 0, 0], [0, 0, 0]], \n",
        "               [[0, 0, 0], [0, 0, 0], [0, 0, 0]])"
      ],
      "metadata": {
        "colab": {
          "base_uri": "https://localhost:8080/"
        },
        "id": "Ah8sOuMC8e-Y",
        "outputId": "53a63920-8160-42b3-e32e-1ed0b3a033fb"
      },
      "execution_count": null,
      "outputs": [
        {
          "output_type": "stream",
          "name": "stdout",
          "text": [
            "Matrix 1: [[0 0 0]\n",
            " [0 0 0]\n",
            " [0 0 0]]\n",
            "Matrix 2: [[0 0 0]\n",
            " [0 0 0]\n",
            " [0 0 0]]\n",
            "Sum of the Given Matrices:\n",
            "[[0 0 0]\n",
            " [0 0 0]\n",
            " [0 0 0]]\n",
            "Difference of the Given Matrices:\n",
            "[[0 0 0]\n",
            " [0 0 0]\n",
            " [0 0 0]]\n",
            "Element-Wise Multiplication of the Given Matrices:\n",
            "[[0 0 0]\n",
            " [0 0 0]\n",
            " [0 0 0]]\n",
            "Element-Wise Division of the Given Matrices:\n",
            "[[nan nan nan]\n",
            " [nan nan nan]\n",
            " [nan nan nan]]\n"
          ]
        },
        {
          "output_type": "stream",
          "name": "stderr",
          "text": [
            "/usr/local/lib/python3.7/dist-packages/ipykernel_launcher.py:19: RuntimeWarning: invalid value encountered in true_divide\n"
          ]
        }
      ]
    }
  ]
}